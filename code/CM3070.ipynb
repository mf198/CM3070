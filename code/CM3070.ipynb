{
 "cells": [
  {
   "cell_type": "markdown",
   "id": "f4b18613",
   "metadata": {
    "editable": true,
    "slideshow": {
     "slide_type": ""
    },
    "tags": []
   },
   "source": [
    "# Credit Card Fraud Detection System  \n",
    "  \n",
    "## Project Prototype\n",
    "  \n",
    "  \n",
    "Author: Marco Fontana"
   ]
  },
  {
   "cell_type": "markdown",
   "id": "6618ea38-80f4-4bf2-8b7d-bea0c7ef9756",
   "metadata": {
    "editable": true,
    "slideshow": {
     "slide_type": ""
    },
    "tags": []
   },
   "source": [
    "## **Implementation** \n",
    "\n",
    "Before starting code development, I prepared an environment that would allow me to write and test the code and track all the changes I made.   \n",
    "The project is written in a Jupyter Notebook, in Python, and uses several third-party libraries specific to Machine Learning and Deep Learning algorithms.  \n",
    "Therefore, before I could write code, I had to install all the necessary components on my PC's operating system"
   ]
  },
  {
   "cell_type": "code",
   "execution_count": 7,
   "id": "28038ded",
   "metadata": {},
   "outputs": [
    {
     "name": "stdout",
     "output_type": "stream",
     "text": [
      "Requirement already satisfied: numpy in /home/kino/miniforge3/envs/rapids-24.12/lib/python3.12/site-packages (2.0.2)\n",
      "Requirement already satisfied: pandas in /home/kino/miniforge3/envs/rapids-24.12/lib/python3.12/site-packages (2.2.3)\n",
      "Requirement already satisfied: tensorflow in /home/kino/miniforge3/envs/rapids-24.12/lib/python3.12/site-packages (2.18.0)\n",
      "Requirement already satisfied: scikit-learn in /home/kino/miniforge3/envs/rapids-24.12/lib/python3.12/site-packages (1.6.1)\n",
      "Requirement already satisfied: imbalanced-learn in /home/kino/miniforge3/envs/rapids-24.12/lib/python3.12/site-packages (0.13.0)\n",
      "Requirement already satisfied: matplotlib in /home/kino/miniforge3/envs/rapids-24.12/lib/python3.12/site-packages (3.10.0)\n",
      "Requirement already satisfied: python-dateutil>=2.8.2 in /home/kino/miniforge3/envs/rapids-24.12/lib/python3.12/site-packages (from pandas) (2.9.0.post0)\n",
      "Requirement already satisfied: pytz>=2020.1 in /home/kino/miniforge3/envs/rapids-24.12/lib/python3.12/site-packages (from pandas) (2024.1)\n",
      "Requirement already satisfied: tzdata>=2022.7 in /home/kino/miniforge3/envs/rapids-24.12/lib/python3.12/site-packages (from pandas) (2025.1)\n",
      "Requirement already satisfied: absl-py>=1.0.0 in /home/kino/miniforge3/envs/rapids-24.12/lib/python3.12/site-packages (from tensorflow) (2.1.0)\n",
      "Requirement already satisfied: astunparse>=1.6.0 in /home/kino/miniforge3/envs/rapids-24.12/lib/python3.12/site-packages (from tensorflow) (1.6.3)\n",
      "Requirement already satisfied: flatbuffers>=24.3.25 in /home/kino/miniforge3/envs/rapids-24.12/lib/python3.12/site-packages (from tensorflow) (25.1.24)\n",
      "Requirement already satisfied: gast!=0.5.0,!=0.5.1,!=0.5.2,>=0.2.1 in /home/kino/miniforge3/envs/rapids-24.12/lib/python3.12/site-packages (from tensorflow) (0.6.0)\n",
      "Requirement already satisfied: google-pasta>=0.1.1 in /home/kino/miniforge3/envs/rapids-24.12/lib/python3.12/site-packages (from tensorflow) (0.2.0)\n",
      "Requirement already satisfied: libclang>=13.0.0 in /home/kino/miniforge3/envs/rapids-24.12/lib/python3.12/site-packages (from tensorflow) (18.1.1)\n",
      "Requirement already satisfied: opt-einsum>=2.3.2 in /home/kino/miniforge3/envs/rapids-24.12/lib/python3.12/site-packages (from tensorflow) (3.4.0)\n",
      "Requirement already satisfied: packaging in /home/kino/miniforge3/envs/rapids-24.12/lib/python3.12/site-packages (from tensorflow) (24.2)\n",
      "Requirement already satisfied: protobuf!=4.21.0,!=4.21.1,!=4.21.2,!=4.21.3,!=4.21.4,!=4.21.5,<6.0.0dev,>=3.20.3 in /home/kino/miniforge3/envs/rapids-24.12/lib/python3.12/site-packages (from tensorflow) (5.29.3)\n",
      "Requirement already satisfied: requests<3,>=2.21.0 in /home/kino/miniforge3/envs/rapids-24.12/lib/python3.12/site-packages (from tensorflow) (2.32.3)\n",
      "Requirement already satisfied: setuptools in /home/kino/miniforge3/envs/rapids-24.12/lib/python3.12/site-packages (from tensorflow) (75.8.0)\n",
      "Requirement already satisfied: six>=1.12.0 in /home/kino/miniforge3/envs/rapids-24.12/lib/python3.12/site-packages (from tensorflow) (1.17.0)\n",
      "Requirement already satisfied: termcolor>=1.1.0 in /home/kino/miniforge3/envs/rapids-24.12/lib/python3.12/site-packages (from tensorflow) (2.5.0)\n",
      "Requirement already satisfied: typing-extensions>=3.6.6 in /home/kino/miniforge3/envs/rapids-24.12/lib/python3.12/site-packages (from tensorflow) (4.12.2)\n",
      "Requirement already satisfied: wrapt>=1.11.0 in /home/kino/miniforge3/envs/rapids-24.12/lib/python3.12/site-packages (from tensorflow) (1.17.2)\n",
      "Requirement already satisfied: grpcio<2.0,>=1.24.3 in /home/kino/miniforge3/envs/rapids-24.12/lib/python3.12/site-packages (from tensorflow) (1.70.0)\n",
      "Requirement already satisfied: tensorboard<2.19,>=2.18 in /home/kino/miniforge3/envs/rapids-24.12/lib/python3.12/site-packages (from tensorflow) (2.18.0)\n",
      "Requirement already satisfied: keras>=3.5.0 in /home/kino/miniforge3/envs/rapids-24.12/lib/python3.12/site-packages (from tensorflow) (3.8.0)\n",
      "Requirement already satisfied: h5py>=3.11.0 in /home/kino/miniforge3/envs/rapids-24.12/lib/python3.12/site-packages (from tensorflow) (3.12.1)\n",
      "Requirement already satisfied: ml-dtypes<0.5.0,>=0.4.0 in /home/kino/miniforge3/envs/rapids-24.12/lib/python3.12/site-packages (from tensorflow) (0.4.1)\n",
      "Requirement already satisfied: scipy>=1.6.0 in /home/kino/miniforge3/envs/rapids-24.12/lib/python3.12/site-packages (from scikit-learn) (1.15.1)\n",
      "Requirement already satisfied: joblib>=1.2.0 in /home/kino/miniforge3/envs/rapids-24.12/lib/python3.12/site-packages (from scikit-learn) (1.4.2)\n",
      "Requirement already satisfied: threadpoolctl>=3.1.0 in /home/kino/miniforge3/envs/rapids-24.12/lib/python3.12/site-packages (from scikit-learn) (3.5.0)\n",
      "Requirement already satisfied: sklearn-compat<1,>=0.1 in /home/kino/miniforge3/envs/rapids-24.12/lib/python3.12/site-packages (from imbalanced-learn) (0.1.3)\n",
      "Requirement already satisfied: contourpy>=1.0.1 in /home/kino/miniforge3/envs/rapids-24.12/lib/python3.12/site-packages (from matplotlib) (1.3.1)\n",
      "Requirement already satisfied: cycler>=0.10 in /home/kino/miniforge3/envs/rapids-24.12/lib/python3.12/site-packages (from matplotlib) (0.12.1)\n",
      "Requirement already satisfied: fonttools>=4.22.0 in /home/kino/miniforge3/envs/rapids-24.12/lib/python3.12/site-packages (from matplotlib) (4.55.6)\n",
      "Requirement already satisfied: kiwisolver>=1.3.1 in /home/kino/miniforge3/envs/rapids-24.12/lib/python3.12/site-packages (from matplotlib) (1.4.8)\n",
      "Requirement already satisfied: pillow>=8 in /home/kino/miniforge3/envs/rapids-24.12/lib/python3.12/site-packages (from matplotlib) (11.1.0)\n",
      "Requirement already satisfied: pyparsing>=2.3.1 in /home/kino/miniforge3/envs/rapids-24.12/lib/python3.12/site-packages (from matplotlib) (3.2.1)\n",
      "Requirement already satisfied: wheel<1.0,>=0.23.0 in /home/kino/miniforge3/envs/rapids-24.12/lib/python3.12/site-packages (from astunparse>=1.6.0->tensorflow) (0.45.1)\n",
      "Requirement already satisfied: rich in /home/kino/miniforge3/envs/rapids-24.12/lib/python3.12/site-packages (from keras>=3.5.0->tensorflow) (13.9.4)\n",
      "Requirement already satisfied: namex in /home/kino/miniforge3/envs/rapids-24.12/lib/python3.12/site-packages (from keras>=3.5.0->tensorflow) (0.0.8)\n",
      "Requirement already satisfied: optree in /home/kino/miniforge3/envs/rapids-24.12/lib/python3.12/site-packages (from keras>=3.5.0->tensorflow) (0.14.0)\n",
      "Requirement already satisfied: charset_normalizer<4,>=2 in /home/kino/miniforge3/envs/rapids-24.12/lib/python3.12/site-packages (from requests<3,>=2.21.0->tensorflow) (3.4.1)\n",
      "Requirement already satisfied: idna<4,>=2.5 in /home/kino/miniforge3/envs/rapids-24.12/lib/python3.12/site-packages (from requests<3,>=2.21.0->tensorflow) (3.10)\n",
      "Requirement already satisfied: urllib3<3,>=1.21.1 in /home/kino/miniforge3/envs/rapids-24.12/lib/python3.12/site-packages (from requests<3,>=2.21.0->tensorflow) (2.3.0)\n",
      "Requirement already satisfied: certifi>=2017.4.17 in /home/kino/miniforge3/envs/rapids-24.12/lib/python3.12/site-packages (from requests<3,>=2.21.0->tensorflow) (2024.12.14)\n",
      "Requirement already satisfied: markdown>=2.6.8 in /home/kino/miniforge3/envs/rapids-24.12/lib/python3.12/site-packages (from tensorboard<2.19,>=2.18->tensorflow) (3.6)\n",
      "Requirement already satisfied: tensorboard-data-server<0.8.0,>=0.7.0 in /home/kino/miniforge3/envs/rapids-24.12/lib/python3.12/site-packages (from tensorboard<2.19,>=2.18->tensorflow) (0.7.2)\n",
      "Requirement already satisfied: werkzeug>=1.0.1 in /home/kino/miniforge3/envs/rapids-24.12/lib/python3.12/site-packages (from tensorboard<2.19,>=2.18->tensorflow) (3.1.3)\n",
      "Requirement already satisfied: MarkupSafe>=2.1.1 in /home/kino/miniforge3/envs/rapids-24.12/lib/python3.12/site-packages (from werkzeug>=1.0.1->tensorboard<2.19,>=2.18->tensorflow) (3.0.2)\n",
      "Requirement already satisfied: markdown-it-py>=2.2.0 in /home/kino/miniforge3/envs/rapids-24.12/lib/python3.12/site-packages (from rich->keras>=3.5.0->tensorflow) (3.0.0)\n",
      "Requirement already satisfied: pygments<3.0.0,>=2.13.0 in /home/kino/miniforge3/envs/rapids-24.12/lib/python3.12/site-packages (from rich->keras>=3.5.0->tensorflow) (2.19.1)\n",
      "Requirement already satisfied: mdurl~=0.1 in /home/kino/miniforge3/envs/rapids-24.12/lib/python3.12/site-packages (from markdown-it-py>=2.2.0->rich->keras>=3.5.0->tensorflow) (0.1.2)\n"
     ]
    }
   ],
   "source": [
    "# Install required libraries\n",
    "!pip install numpy pandas tensorflow scikit-learn imbalanced-learn matplotlib"
   ]
  },
  {
   "cell_type": "code",
   "execution_count": 8,
   "id": "913404df",
   "metadata": {},
   "outputs": [],
   "source": [
    "# Import required libraries\n",
    "from imblearn.over_sampling import SMOTE, ADASYN, BorderlineSMOTE, RandomOverSampler\n",
    "import matplotlib.pyplot as plt\n",
    "import numpy as np\n",
    "import pandas as pd\n",
    "from sklearn.ensemble import RandomForestClassifier\n",
    "from sklearn.metrics import classification_report, confusion_matrix, accuracy_score\n",
    "from sklearn.model_selection import train_test_split\n",
    "from sklearn.preprocessing import MinMaxScaler, StandardScaler\n",
    "from sklearn.utils import shuffle\n",
    "import tensorflow as tf\n",
    "from tensorflow.keras import layers, models, Model"
   ]
  },
  {
   "cell_type": "markdown",
   "id": "fd501fdb-95f3-4795-94c7-bdc37a1648e6",
   "metadata": {},
   "source": [
    "### **Dataset analysis**\n",
    "\n",
    "The first phase of the project is dedicated to the analysis of the dataset. Before proceeding to the implementation of the code, it is necessary to have a deep understanding of the available data in order to understand whether modifications are necessary to make the dataset suitable for ML and DL algorithms, thus increasing their performance.\n",
    "Furthermore, since this dataset contains financial data, it is necessary to verify that there is no sensitive information of the user or payment institution, which could lead to confidentiality or ethical problems.\n",
    "\n",
    "In the description of the dataset[] it is stated that for confidentiality reasons the content has been obscured via a PCA[] transformation; the feature name itself has been changed to a symbolic name (V1 to V28); the only features that have not been transformed or obfuscated are Time and Amount.  \n",
    "The feature Time represents the number of seconds between each transaction and the first transaction, while Amount represents the amount of the transaction.  \n",
    "\n",
    "Transforming and obfuscating the data and features of the dataset ensures that it does not contain sensitive information and guarantees that there are no confidentiality issues."
   ]
  },
  {
   "cell_type": "code",
   "execution_count": 9,
   "id": "368b6d72-36f9-4c4f-9316-f8ae64a3cbe5",
   "metadata": {},
   "outputs": [
    {
     "ename": "FileNotFoundError",
     "evalue": "[Errno 2] No such file or directory: 'creditcard.csv'",
     "output_type": "error",
     "traceback": [
      "\u001b[0;31m---------------------------------------------------------------------------\u001b[0m",
      "\u001b[0;31mFileNotFoundError\u001b[0m                         Traceback (most recent call last)",
      "Cell \u001b[0;32mIn[9], line 2\u001b[0m\n\u001b[1;32m      1\u001b[0m \u001b[38;5;66;03m# Load the dataset\u001b[39;00m\n\u001b[0;32m----> 2\u001b[0m df \u001b[38;5;241m=\u001b[39m \u001b[43mpd\u001b[49m\u001b[38;5;241;43m.\u001b[39;49m\u001b[43mread_csv\u001b[49m\u001b[43m(\u001b[49m\u001b[38;5;124;43m'\u001b[39;49m\u001b[38;5;124;43mcreditcard.csv\u001b[39;49m\u001b[38;5;124;43m'\u001b[39;49m\u001b[43m)\u001b[49m\n\u001b[1;32m      4\u001b[0m \u001b[38;5;66;03m# Show dataset info\u001b[39;00m\n\u001b[1;32m      5\u001b[0m df\u001b[38;5;241m.\u001b[39minfo()\n",
      "File \u001b[0;32m~/miniforge3/envs/rapids-24.12/lib/python3.12/site-packages/pandas/io/parsers/readers.py:1026\u001b[0m, in \u001b[0;36mread_csv\u001b[0;34m(filepath_or_buffer, sep, delimiter, header, names, index_col, usecols, dtype, engine, converters, true_values, false_values, skipinitialspace, skiprows, skipfooter, nrows, na_values, keep_default_na, na_filter, verbose, skip_blank_lines, parse_dates, infer_datetime_format, keep_date_col, date_parser, date_format, dayfirst, cache_dates, iterator, chunksize, compression, thousands, decimal, lineterminator, quotechar, quoting, doublequote, escapechar, comment, encoding, encoding_errors, dialect, on_bad_lines, delim_whitespace, low_memory, memory_map, float_precision, storage_options, dtype_backend)\u001b[0m\n\u001b[1;32m   1013\u001b[0m kwds_defaults \u001b[38;5;241m=\u001b[39m _refine_defaults_read(\n\u001b[1;32m   1014\u001b[0m     dialect,\n\u001b[1;32m   1015\u001b[0m     delimiter,\n\u001b[0;32m   (...)\u001b[0m\n\u001b[1;32m   1022\u001b[0m     dtype_backend\u001b[38;5;241m=\u001b[39mdtype_backend,\n\u001b[1;32m   1023\u001b[0m )\n\u001b[1;32m   1024\u001b[0m kwds\u001b[38;5;241m.\u001b[39mupdate(kwds_defaults)\n\u001b[0;32m-> 1026\u001b[0m \u001b[38;5;28;01mreturn\u001b[39;00m \u001b[43m_read\u001b[49m\u001b[43m(\u001b[49m\u001b[43mfilepath_or_buffer\u001b[49m\u001b[43m,\u001b[49m\u001b[43m \u001b[49m\u001b[43mkwds\u001b[49m\u001b[43m)\u001b[49m\n",
      "File \u001b[0;32m~/miniforge3/envs/rapids-24.12/lib/python3.12/site-packages/pandas/io/parsers/readers.py:620\u001b[0m, in \u001b[0;36m_read\u001b[0;34m(filepath_or_buffer, kwds)\u001b[0m\n\u001b[1;32m    617\u001b[0m _validate_names(kwds\u001b[38;5;241m.\u001b[39mget(\u001b[38;5;124m\"\u001b[39m\u001b[38;5;124mnames\u001b[39m\u001b[38;5;124m\"\u001b[39m, \u001b[38;5;28;01mNone\u001b[39;00m))\n\u001b[1;32m    619\u001b[0m \u001b[38;5;66;03m# Create the parser.\u001b[39;00m\n\u001b[0;32m--> 620\u001b[0m parser \u001b[38;5;241m=\u001b[39m \u001b[43mTextFileReader\u001b[49m\u001b[43m(\u001b[49m\u001b[43mfilepath_or_buffer\u001b[49m\u001b[43m,\u001b[49m\u001b[43m \u001b[49m\u001b[38;5;241;43m*\u001b[39;49m\u001b[38;5;241;43m*\u001b[39;49m\u001b[43mkwds\u001b[49m\u001b[43m)\u001b[49m\n\u001b[1;32m    622\u001b[0m \u001b[38;5;28;01mif\u001b[39;00m chunksize \u001b[38;5;129;01mor\u001b[39;00m iterator:\n\u001b[1;32m    623\u001b[0m     \u001b[38;5;28;01mreturn\u001b[39;00m parser\n",
      "File \u001b[0;32m~/miniforge3/envs/rapids-24.12/lib/python3.12/site-packages/pandas/io/parsers/readers.py:1620\u001b[0m, in \u001b[0;36mTextFileReader.__init__\u001b[0;34m(self, f, engine, **kwds)\u001b[0m\n\u001b[1;32m   1617\u001b[0m     \u001b[38;5;28mself\u001b[39m\u001b[38;5;241m.\u001b[39moptions[\u001b[38;5;124m\"\u001b[39m\u001b[38;5;124mhas_index_names\u001b[39m\u001b[38;5;124m\"\u001b[39m] \u001b[38;5;241m=\u001b[39m kwds[\u001b[38;5;124m\"\u001b[39m\u001b[38;5;124mhas_index_names\u001b[39m\u001b[38;5;124m\"\u001b[39m]\n\u001b[1;32m   1619\u001b[0m \u001b[38;5;28mself\u001b[39m\u001b[38;5;241m.\u001b[39mhandles: IOHandles \u001b[38;5;241m|\u001b[39m \u001b[38;5;28;01mNone\u001b[39;00m \u001b[38;5;241m=\u001b[39m \u001b[38;5;28;01mNone\u001b[39;00m\n\u001b[0;32m-> 1620\u001b[0m \u001b[38;5;28mself\u001b[39m\u001b[38;5;241m.\u001b[39m_engine \u001b[38;5;241m=\u001b[39m \u001b[38;5;28;43mself\u001b[39;49m\u001b[38;5;241;43m.\u001b[39;49m\u001b[43m_make_engine\u001b[49m\u001b[43m(\u001b[49m\u001b[43mf\u001b[49m\u001b[43m,\u001b[49m\u001b[43m \u001b[49m\u001b[38;5;28;43mself\u001b[39;49m\u001b[38;5;241;43m.\u001b[39;49m\u001b[43mengine\u001b[49m\u001b[43m)\u001b[49m\n",
      "File \u001b[0;32m~/miniforge3/envs/rapids-24.12/lib/python3.12/site-packages/pandas/io/parsers/readers.py:1880\u001b[0m, in \u001b[0;36mTextFileReader._make_engine\u001b[0;34m(self, f, engine)\u001b[0m\n\u001b[1;32m   1878\u001b[0m     \u001b[38;5;28;01mif\u001b[39;00m \u001b[38;5;124m\"\u001b[39m\u001b[38;5;124mb\u001b[39m\u001b[38;5;124m\"\u001b[39m \u001b[38;5;129;01mnot\u001b[39;00m \u001b[38;5;129;01min\u001b[39;00m mode:\n\u001b[1;32m   1879\u001b[0m         mode \u001b[38;5;241m+\u001b[39m\u001b[38;5;241m=\u001b[39m \u001b[38;5;124m\"\u001b[39m\u001b[38;5;124mb\u001b[39m\u001b[38;5;124m\"\u001b[39m\n\u001b[0;32m-> 1880\u001b[0m \u001b[38;5;28mself\u001b[39m\u001b[38;5;241m.\u001b[39mhandles \u001b[38;5;241m=\u001b[39m \u001b[43mget_handle\u001b[49m\u001b[43m(\u001b[49m\n\u001b[1;32m   1881\u001b[0m \u001b[43m    \u001b[49m\u001b[43mf\u001b[49m\u001b[43m,\u001b[49m\n\u001b[1;32m   1882\u001b[0m \u001b[43m    \u001b[49m\u001b[43mmode\u001b[49m\u001b[43m,\u001b[49m\n\u001b[1;32m   1883\u001b[0m \u001b[43m    \u001b[49m\u001b[43mencoding\u001b[49m\u001b[38;5;241;43m=\u001b[39;49m\u001b[38;5;28;43mself\u001b[39;49m\u001b[38;5;241;43m.\u001b[39;49m\u001b[43moptions\u001b[49m\u001b[38;5;241;43m.\u001b[39;49m\u001b[43mget\u001b[49m\u001b[43m(\u001b[49m\u001b[38;5;124;43m\"\u001b[39;49m\u001b[38;5;124;43mencoding\u001b[39;49m\u001b[38;5;124;43m\"\u001b[39;49m\u001b[43m,\u001b[49m\u001b[43m \u001b[49m\u001b[38;5;28;43;01mNone\u001b[39;49;00m\u001b[43m)\u001b[49m\u001b[43m,\u001b[49m\n\u001b[1;32m   1884\u001b[0m \u001b[43m    \u001b[49m\u001b[43mcompression\u001b[49m\u001b[38;5;241;43m=\u001b[39;49m\u001b[38;5;28;43mself\u001b[39;49m\u001b[38;5;241;43m.\u001b[39;49m\u001b[43moptions\u001b[49m\u001b[38;5;241;43m.\u001b[39;49m\u001b[43mget\u001b[49m\u001b[43m(\u001b[49m\u001b[38;5;124;43m\"\u001b[39;49m\u001b[38;5;124;43mcompression\u001b[39;49m\u001b[38;5;124;43m\"\u001b[39;49m\u001b[43m,\u001b[49m\u001b[43m \u001b[49m\u001b[38;5;28;43;01mNone\u001b[39;49;00m\u001b[43m)\u001b[49m\u001b[43m,\u001b[49m\n\u001b[1;32m   1885\u001b[0m \u001b[43m    \u001b[49m\u001b[43mmemory_map\u001b[49m\u001b[38;5;241;43m=\u001b[39;49m\u001b[38;5;28;43mself\u001b[39;49m\u001b[38;5;241;43m.\u001b[39;49m\u001b[43moptions\u001b[49m\u001b[38;5;241;43m.\u001b[39;49m\u001b[43mget\u001b[49m\u001b[43m(\u001b[49m\u001b[38;5;124;43m\"\u001b[39;49m\u001b[38;5;124;43mmemory_map\u001b[39;49m\u001b[38;5;124;43m\"\u001b[39;49m\u001b[43m,\u001b[49m\u001b[43m \u001b[49m\u001b[38;5;28;43;01mFalse\u001b[39;49;00m\u001b[43m)\u001b[49m\u001b[43m,\u001b[49m\n\u001b[1;32m   1886\u001b[0m \u001b[43m    \u001b[49m\u001b[43mis_text\u001b[49m\u001b[38;5;241;43m=\u001b[39;49m\u001b[43mis_text\u001b[49m\u001b[43m,\u001b[49m\n\u001b[1;32m   1887\u001b[0m \u001b[43m    \u001b[49m\u001b[43merrors\u001b[49m\u001b[38;5;241;43m=\u001b[39;49m\u001b[38;5;28;43mself\u001b[39;49m\u001b[38;5;241;43m.\u001b[39;49m\u001b[43moptions\u001b[49m\u001b[38;5;241;43m.\u001b[39;49m\u001b[43mget\u001b[49m\u001b[43m(\u001b[49m\u001b[38;5;124;43m\"\u001b[39;49m\u001b[38;5;124;43mencoding_errors\u001b[39;49m\u001b[38;5;124;43m\"\u001b[39;49m\u001b[43m,\u001b[49m\u001b[43m \u001b[49m\u001b[38;5;124;43m\"\u001b[39;49m\u001b[38;5;124;43mstrict\u001b[39;49m\u001b[38;5;124;43m\"\u001b[39;49m\u001b[43m)\u001b[49m\u001b[43m,\u001b[49m\n\u001b[1;32m   1888\u001b[0m \u001b[43m    \u001b[49m\u001b[43mstorage_options\u001b[49m\u001b[38;5;241;43m=\u001b[39;49m\u001b[38;5;28;43mself\u001b[39;49m\u001b[38;5;241;43m.\u001b[39;49m\u001b[43moptions\u001b[49m\u001b[38;5;241;43m.\u001b[39;49m\u001b[43mget\u001b[49m\u001b[43m(\u001b[49m\u001b[38;5;124;43m\"\u001b[39;49m\u001b[38;5;124;43mstorage_options\u001b[39;49m\u001b[38;5;124;43m\"\u001b[39;49m\u001b[43m,\u001b[49m\u001b[43m \u001b[49m\u001b[38;5;28;43;01mNone\u001b[39;49;00m\u001b[43m)\u001b[49m\u001b[43m,\u001b[49m\n\u001b[1;32m   1889\u001b[0m \u001b[43m\u001b[49m\u001b[43m)\u001b[49m\n\u001b[1;32m   1890\u001b[0m \u001b[38;5;28;01massert\u001b[39;00m \u001b[38;5;28mself\u001b[39m\u001b[38;5;241m.\u001b[39mhandles \u001b[38;5;129;01mis\u001b[39;00m \u001b[38;5;129;01mnot\u001b[39;00m \u001b[38;5;28;01mNone\u001b[39;00m\n\u001b[1;32m   1891\u001b[0m f \u001b[38;5;241m=\u001b[39m \u001b[38;5;28mself\u001b[39m\u001b[38;5;241m.\u001b[39mhandles\u001b[38;5;241m.\u001b[39mhandle\n",
      "File \u001b[0;32m~/miniforge3/envs/rapids-24.12/lib/python3.12/site-packages/pandas/io/common.py:873\u001b[0m, in \u001b[0;36mget_handle\u001b[0;34m(path_or_buf, mode, encoding, compression, memory_map, is_text, errors, storage_options)\u001b[0m\n\u001b[1;32m    868\u001b[0m \u001b[38;5;28;01melif\u001b[39;00m \u001b[38;5;28misinstance\u001b[39m(handle, \u001b[38;5;28mstr\u001b[39m):\n\u001b[1;32m    869\u001b[0m     \u001b[38;5;66;03m# Check whether the filename is to be opened in binary mode.\u001b[39;00m\n\u001b[1;32m    870\u001b[0m     \u001b[38;5;66;03m# Binary mode does not support 'encoding' and 'newline'.\u001b[39;00m\n\u001b[1;32m    871\u001b[0m     \u001b[38;5;28;01mif\u001b[39;00m ioargs\u001b[38;5;241m.\u001b[39mencoding \u001b[38;5;129;01mand\u001b[39;00m \u001b[38;5;124m\"\u001b[39m\u001b[38;5;124mb\u001b[39m\u001b[38;5;124m\"\u001b[39m \u001b[38;5;129;01mnot\u001b[39;00m \u001b[38;5;129;01min\u001b[39;00m ioargs\u001b[38;5;241m.\u001b[39mmode:\n\u001b[1;32m    872\u001b[0m         \u001b[38;5;66;03m# Encoding\u001b[39;00m\n\u001b[0;32m--> 873\u001b[0m         handle \u001b[38;5;241m=\u001b[39m \u001b[38;5;28;43mopen\u001b[39;49m\u001b[43m(\u001b[49m\n\u001b[1;32m    874\u001b[0m \u001b[43m            \u001b[49m\u001b[43mhandle\u001b[49m\u001b[43m,\u001b[49m\n\u001b[1;32m    875\u001b[0m \u001b[43m            \u001b[49m\u001b[43mioargs\u001b[49m\u001b[38;5;241;43m.\u001b[39;49m\u001b[43mmode\u001b[49m\u001b[43m,\u001b[49m\n\u001b[1;32m    876\u001b[0m \u001b[43m            \u001b[49m\u001b[43mencoding\u001b[49m\u001b[38;5;241;43m=\u001b[39;49m\u001b[43mioargs\u001b[49m\u001b[38;5;241;43m.\u001b[39;49m\u001b[43mencoding\u001b[49m\u001b[43m,\u001b[49m\n\u001b[1;32m    877\u001b[0m \u001b[43m            \u001b[49m\u001b[43merrors\u001b[49m\u001b[38;5;241;43m=\u001b[39;49m\u001b[43merrors\u001b[49m\u001b[43m,\u001b[49m\n\u001b[1;32m    878\u001b[0m \u001b[43m            \u001b[49m\u001b[43mnewline\u001b[49m\u001b[38;5;241;43m=\u001b[39;49m\u001b[38;5;124;43m\"\u001b[39;49m\u001b[38;5;124;43m\"\u001b[39;49m\u001b[43m,\u001b[49m\n\u001b[1;32m    879\u001b[0m \u001b[43m        \u001b[49m\u001b[43m)\u001b[49m\n\u001b[1;32m    880\u001b[0m     \u001b[38;5;28;01melse\u001b[39;00m:\n\u001b[1;32m    881\u001b[0m         \u001b[38;5;66;03m# Binary mode\u001b[39;00m\n\u001b[1;32m    882\u001b[0m         handle \u001b[38;5;241m=\u001b[39m \u001b[38;5;28mopen\u001b[39m(handle, ioargs\u001b[38;5;241m.\u001b[39mmode)\n",
      "\u001b[0;31mFileNotFoundError\u001b[0m: [Errno 2] No such file or directory: 'creditcard.csv'"
     ]
    }
   ],
   "source": [
    "# Load the dataset\n",
    "df = pd.read_csv('creditcard.csv')\n",
    "\n",
    "# Show dataset info\n",
    "df.info()"
   ]
  },
  {
   "cell_type": "markdown",
   "id": "359aa9f9-ea78-4af3-b8c2-bd8ebc20654d",
   "metadata": {},
   "source": [
    "The dataset consists of 284807 records and is described by 31 features.  \n",
    "The data are all of type float64, except for the feature 'Class' which is of type int64.\n",
    "\n",
    "#### **Checking for missing values**\n",
    "\n",
    "The next step is to check for missing values in the dataset."
   ]
  },
  {
   "cell_type": "code",
   "execution_count": null,
   "id": "413cef4d-480b-41ed-adaa-0da8876553e0",
   "metadata": {},
   "outputs": [],
   "source": [
    "print(\"\\nNumber of missing values:\", df.isnull().sum())"
   ]
  },
  {
   "cell_type": "markdown",
   "id": "a944d9fd-f5d8-4ae6-8442-ccad3bd3588b",
   "metadata": {},
   "source": [
    "The dataset contains no missing values, so no manual editing operation is required.  \n",
    "  \n",
    "By visualizing an example of the records in the dataset, I can understand whether other operations are needed on the data that can improve performance with the ML and DL algorithms."
   ]
  },
  {
   "cell_type": "code",
   "execution_count": null,
   "id": "437474b6-81f6-47bc-9af9-fc81cd5d602f",
   "metadata": {
    "scrolled": true
   },
   "outputs": [],
   "source": [
    "# Display the first 5 records of the dataset\n",
    "df.head(5)"
   ]
  },
  {
   "cell_type": "markdown",
   "id": "03d821da-77a7-46fa-921a-a40922cf9f1c",
   "metadata": {},
   "source": [
    "From the analysis of some records, it can be seen that the Time and Amount features have not been transformed.\n",
    "The Time feature is not useful in my research, since it does not provide a particular pattern related to the transaction; I could transform it into a date and time value, but since I have no information about the time of the first transaction I would have to create non-real data; that is why I decided to remove it from the dataset."
   ]
  },
  {
   "cell_type": "code",
   "execution_count": 4,
   "id": "5bdf6c22-24ff-4372-95da-40b23e61c12b",
   "metadata": {},
   "outputs": [
    {
     "ename": "NameError",
     "evalue": "name 'df' is not defined",
     "output_type": "error",
     "traceback": [
      "\u001b[0;31m---------------------------------------------------------------------------\u001b[0m",
      "\u001b[0;31mNameError\u001b[0m                                 Traceback (most recent call last)",
      "Cell \u001b[0;32mIn[4], line 1\u001b[0m\n\u001b[0;32m----> 1\u001b[0m df \u001b[38;5;241m=\u001b[39m \u001b[43mdf\u001b[49m\u001b[38;5;241m.\u001b[39mdrop(columns\u001b[38;5;241m=\u001b[39m[\u001b[38;5;124m'\u001b[39m\u001b[38;5;124mTime\u001b[39m\u001b[38;5;124m'\u001b[39m])\n",
      "\u001b[0;31mNameError\u001b[0m: name 'df' is not defined"
     ]
    }
   ],
   "source": [
    "df = df.drop(columns=['Time'])"
   ]
  },
  {
   "cell_type": "markdown",
   "id": "da17c9f7-9bce-4470-9be1-723278911fe6",
   "metadata": {},
   "source": [
    "The 'Amount' feature is of type int64 and the values it contains can vary widely between transactons.  \n",
    "Some ML algorithms (SVM, gradient boosting, etc.) perform better when features are on a similar scale, and since the feature ‘Amount’ can have a significant variance, scaling helps stabilise the performance of the model.\n",
    "\n",
    "I did not delete the 'Amount' feature because the economic value of the transaction can be of great importance for identifying fraud patterns.  "
   ]
  },
  {
   "cell_type": "code",
   "execution_count": 5,
   "id": "4a8d207f-e9a7-4992-a33b-bbc6c45cfca0",
   "metadata": {},
   "outputs": [
    {
     "ename": "NameError",
     "evalue": "name 'df' is not defined",
     "output_type": "error",
     "traceback": [
      "\u001b[0;31m---------------------------------------------------------------------------\u001b[0m",
      "\u001b[0;31mNameError\u001b[0m                                 Traceback (most recent call last)",
      "Cell \u001b[0;32mIn[5], line 2\u001b[0m\n\u001b[1;32m      1\u001b[0m \u001b[38;5;66;03m#Apply scaling to the 'Amount' feature\u001b[39;00m\n\u001b[0;32m----> 2\u001b[0m df[\u001b[38;5;124m'\u001b[39m\u001b[38;5;124mAmount\u001b[39m\u001b[38;5;124m'\u001b[39m] \u001b[38;5;241m=\u001b[39m StandardScaler()\u001b[38;5;241m.\u001b[39mfit_transform(\u001b[43mdf\u001b[49m[[\u001b[38;5;124m'\u001b[39m\u001b[38;5;124mAmount\u001b[39m\u001b[38;5;124m'\u001b[39m]])\n",
      "\u001b[0;31mNameError\u001b[0m: name 'df' is not defined"
     ]
    }
   ],
   "source": [
    "#Apply scaling to the 'Amount' feature\n",
    "df['Amount'] = StandardScaler().fit_transform(df[['Amount']])"
   ]
  },
  {
   "cell_type": "markdown",
   "id": "5e03e248-3e7d-40b1-8002-8c5752d80fb8",
   "metadata": {},
   "source": [
    "The StandardScaler is a data preprocessing technique commonly used in machine learning to scale or normalize features so that they have a mean of 0 and a standard deviation of 1. This is particularly important for many machine learning algorithms that are sensitive to the scale of input features, such as SVMs (Support Vector Machines), k-NN (k-Nearest Neighbors), and Logistic Regression. \n",
    "  \n",
    "The state of the dataset after changes are made can be seen in the output below"
   ]
  },
  {
   "cell_type": "code",
   "execution_count": 6,
   "id": "8758f203-c92c-41b8-b3bf-be5f1a5ce0e8",
   "metadata": {},
   "outputs": [
    {
     "ename": "NameError",
     "evalue": "name 'df' is not defined",
     "output_type": "error",
     "traceback": [
      "\u001b[0;31m---------------------------------------------------------------------------\u001b[0m",
      "\u001b[0;31mNameError\u001b[0m                                 Traceback (most recent call last)",
      "Cell \u001b[0;32mIn[6], line 1\u001b[0m\n\u001b[0;32m----> 1\u001b[0m \u001b[43mdf\u001b[49m\u001b[38;5;241m.\u001b[39mhead(\u001b[38;5;241m5\u001b[39m)\n",
      "\u001b[0;31mNameError\u001b[0m: name 'df' is not defined"
     ]
    }
   ],
   "source": [
    "df.head(5)"
   ]
  },
  {
   "cell_type": "markdown",
   "id": "6e6117f8",
   "metadata": {},
   "source": [
    "The dataset description page contains information on the distrubution of its two classes two classes 'non-fraud' (0) and 'fraud' (1).  \n",
    "The amount of records of the two types is very different, as can be seen in the following output."
   ]
  },
  {
   "cell_type": "code",
   "execution_count": 68,
   "id": "b72e82e4-e2b8-4e72-8510-b88db0a5d30a",
   "metadata": {},
   "outputs": [
    {
     "name": "stdout",
     "output_type": "stream",
     "text": [
      "Percentage of Class 1 records: 0.173%\n"
     ]
    }
   ],
   "source": [
    "# Convert the Class column to a NumPy array\n",
    "class_array = df['Class'].to_numpy()\n",
    "\n",
    "# Calculate the percentage of Class 1 records (frauds)\n",
    "percentage_class_1 = (np.sum(class_array == 1) / len(class_array)) * 100\n",
    "\n",
    "print(f\"Percentage of Class 1 records: {percentage_class_1:.3f}%\")"
   ]
  },
  {
   "cell_type": "markdown",
   "id": "30ee8504",
   "metadata": {},
   "source": [
    "The large imbalance in the distribution of classes in the dataset is a problem for some ML and DL algorithms, and so it is necessary to use techniques for its balancing."
   ]
  },
  {
   "cell_type": "markdown",
   "id": "1344994f-b1c9-41fb-b07e-ed2418c0ea55",
   "metadata": {},
   "source": [
    "#### Balancing the dataset\n",
    "\n",
    "To obtain a dataset with an equivalent number of records for its classes, I will use several techniques and then compare the results with ML and DL algorithms. The goal is to test which method generates synthetic data that most closely resembles real data; artificially generated fraud records in fact could be classified as false negatives. By comparing the results I will be able to determine which of the balancing techniques is the most appropriate for generating this type of data.\n",
    "\n",
    "It is important to note that the balancing of the dataset is done __after__ its division into training and test data, so that the latter contain no ‘synthetic’ data. \n",
    "\n",
    "I created a class which uses several oversampling methods: SMOTE, ADASYN, Borderline-SMOTE, SVMSMOTE and Random Oversampling. The selection of algorithms was evaluated after reading several researches that used them in their projects deemed them the best for oversampling the data."
   ]
  },
  {
   "cell_type": "code",
   "execution_count": 69,
   "id": "131c2b68-49ab-4636-b37a-a95dd5bc4d22",
   "metadata": {},
   "outputs": [],
   "source": [
    "class OversamplingTechniques:\n",
    "    def __init__(self, X, y):\n",
    "        \"\"\"\n",
    "        Initialize the class with the original dataset features (X) and target (y).\n",
    "        \"\"\"\n",
    "        self.X = X\n",
    "        self.y = y\n",
    "        self.results = {}\n",
    "\n",
    "    def apply_smote(self):\n",
    "        \"\"\"\n",
    "        Apply SMOTE to the dataset and save the oversampled dataset.\n",
    "        \"\"\"\n",
    "        smote = SMOTE(random_state=42)\n",
    "        X_resampled, y_resampled = smote.fit_resample(self.X, self.y)\n",
    "        self.results['SMOTE'] = (X_resampled, y_resampled)\n",
    "\n",
    "    def apply_adasyn(self):\n",
    "        \"\"\"\n",
    "        Apply ADASYN to the dataset and save the oversampled dataset.\n",
    "        \"\"\"\n",
    "        adasyn = ADASYN(random_state=42)\n",
    "        X_resampled, y_resampled = adasyn.fit_resample(self.X, self.y)\n",
    "        self.results['ADASYN'] = (X_resampled, y_resampled)\n",
    "\n",
    "    def apply_borderline_smote(self):\n",
    "        \"\"\"\n",
    "        Apply Borderline-SMOTE to the dataset and save the oversampled dataset.\n",
    "        \"\"\"\n",
    "        borderline_smote = BorderlineSMOTE(random_state=42)\n",
    "        \n",
    "        X_resampled, y_resampled = borderline_smote.fit_resample(self.X, self.y)\n",
    "        self.results['Borderline-SMOTE'] = (X_resampled, y_resampled)\n",
    "\n",
    "    def apply_random_oversampling(self):\n",
    "        \"\"\"\n",
    "        Apply Random Oversampling to the dataset and save the oversampled dataset.\n",
    "        \"\"\"\n",
    "        random_oversampler = RandomOverSampler(random_state=42)\n",
    "        X_resampled, y_resampled = random_oversampler.fit_resample(self.X, self.y)\n",
    "        self.results['Random Oversampling'] = (X_resampled, y_resampled)\n",
    "    \n",
    "    def get_resampled_data(self, method):\n",
    "        \"\"\"\n",
    "        Retrieve the resampled dataset for a given oversampling method.\n",
    "        :param method: String indicating the oversampling method (e.g., 'SMOTE').\n",
    "        :return: Tuple of resampled features (X) and target (y).\n",
    "        \"\"\"\n",
    "        return self.results.get(method, None)\n"
   ]
  },
  {
   "cell_type": "markdown",
   "id": "cddd860e-9108-4966-9db2-d6436a6550f5",
   "metadata": {},
   "source": [
    "Oversampling of the dataset is done on the training data only, so that the test data does not contain synthetic data.\n",
    "I decided to reserve 70% of the dataset for training and the remaining 30% for testing. Before applying oversampling, I separated the labels from the data."
   ]
  },
  {
   "cell_type": "code",
   "execution_count": null,
   "id": "d04e1172-c74b-4551-a886-ed49c79f90dc",
   "metadata": {},
   "outputs": [],
   "source": []
  },
  {
   "cell_type": "code",
   "execution_count": 70,
   "id": "70b0fc07-d373-4c9f-9669-a359678bf872",
   "metadata": {},
   "outputs": [],
   "source": [
    "# Separate features and labels\n",
    "X = df.drop(columns=['Class'])  # Features\n",
    "y = df['Class']                 # Labels\n",
    "\n",
    "# Split the data into train and test sets (to avoid data leakage)\n",
    "X_train, X_test, y_train, y_test = train_test_split(X, y, test_size=0.3, random_state=42, stratify=y)"
   ]
  },
  {
   "cell_type": "markdown",
   "id": "13c6c01f-04ff-4f7c-bcc9-0e1e80dd1610",
   "metadata": {},
   "source": [
    "Visualizing the class distribution makes the imbalance of the dataset more evident. \n",
    "There are  284315 class 0 (non-fraud) records and 492 class 1 (fraud) records."
   ]
  },
  {
   "cell_type": "code",
   "execution_count": 78,
   "id": "00f6fbcb-b785-4f7b-b004-3879bf56e0e1",
   "metadata": {},
   "outputs": [
    {
     "name": "stdout",
     "output_type": "stream",
     "text": [
      "\u001b[1m2/2\u001b[0m \u001b[32m━━━━━━━━━━━━━━━━━━━━\u001b[0m\u001b[37m\u001b[0m \u001b[1m0s\u001b[0m 13ms/step\n"
     ]
    },
    {
     "name": "stderr",
     "output_type": "stream",
     "text": [
      "/home/kino/dev/CM3070/code/.final/lib/python3.11/site-packages/keras/src/layers/core/dense.py:87: UserWarning: Do not pass an `input_shape`/`input_dim` argument to a layer. When using Sequential models, prefer using an `Input(shape)` object as the first layer in the model instead.\n",
      "  super().__init__(activity_regularizer=activity_regularizer, **kwargs)\n"
     ]
    },
    {
     "ename": "AttributeError",
     "evalue": "'NoneType' object has no attribute 'update_state'",
     "output_type": "error",
     "traceback": [
      "\u001b[0;31m---------------------------------------------------------------------------\u001b[0m",
      "\u001b[0;31mAttributeError\u001b[0m                            Traceback (most recent call last)",
      "Cell \u001b[0;32mIn[78], line 149\u001b[0m\n\u001b[1;32m    147\u001b[0m \u001b[38;5;66;03m# Train GAN\u001b[39;00m\n\u001b[1;32m    148\u001b[0m generator_gan, discriminator_gan, gan_model \u001b[38;5;241m=\u001b[39m build_gan(latent_dim, n_features)\n\u001b[0;32m--> 149\u001b[0m \u001b[43mtrain_gan\u001b[49m\u001b[43m(\u001b[49m\u001b[43mgenerator_gan\u001b[49m\u001b[43m,\u001b[49m\u001b[43m \u001b[49m\u001b[43mdiscriminator_gan\u001b[49m\u001b[43m,\u001b[49m\u001b[43m \u001b[49m\u001b[43mgan_model\u001b[49m\u001b[43m,\u001b[49m\u001b[43m \u001b[49m\u001b[43mX_train_minority\u001b[49m\u001b[43m,\u001b[49m\u001b[43m \u001b[49m\u001b[43mlatent_dim\u001b[49m\u001b[43m,\u001b[49m\u001b[43m \u001b[49m\u001b[43mepochs\u001b[49m\u001b[43m,\u001b[49m\u001b[43m \u001b[49m\u001b[43mbatch_size\u001b[49m\u001b[43m)\u001b[49m\n\u001b[1;32m    151\u001b[0m \u001b[38;5;66;03m# Generate synthetic samples\u001b[39;00m\n\u001b[1;32m    152\u001b[0m noise \u001b[38;5;241m=\u001b[39m np\u001b[38;5;241m.\u001b[39mrandom\u001b[38;5;241m.\u001b[39mnormal(\u001b[38;5;241m0\u001b[39m, \u001b[38;5;241m1\u001b[39m, size\u001b[38;5;241m=\u001b[39m(\u001b[38;5;28mlen\u001b[39m(X_train_minority), latent_dim))\n",
      "Cell \u001b[0;32mIn[78], line 79\u001b[0m, in \u001b[0;36mtrain_gan\u001b[0;34m(generator, discriminator, gan_model, X_minority, latent_dim, epochs, batch_size)\u001b[0m\n\u001b[1;32m     76\u001b[0m fake_labels \u001b[38;5;241m=\u001b[39m np\u001b[38;5;241m.\u001b[39mzeros((batch_size, \u001b[38;5;241m1\u001b[39m))\n\u001b[1;32m     78\u001b[0m \u001b[38;5;66;03m# Train discriminator\u001b[39;00m\n\u001b[0;32m---> 79\u001b[0m d_loss_real \u001b[38;5;241m=\u001b[39m \u001b[43mdiscriminator\u001b[49m\u001b[38;5;241;43m.\u001b[39;49m\u001b[43mtrain_on_batch\u001b[49m\u001b[43m(\u001b[49m\u001b[43mreal_samples\u001b[49m\u001b[43m,\u001b[49m\u001b[43m \u001b[49m\u001b[43mreal_labels\u001b[49m\u001b[43m)\u001b[49m\n\u001b[1;32m     80\u001b[0m d_loss_fake \u001b[38;5;241m=\u001b[39m discriminator\u001b[38;5;241m.\u001b[39mtrain_on_batch(fake_samples, fake_labels)\n\u001b[1;32m     82\u001b[0m \u001b[38;5;66;03m# Train generator\u001b[39;00m\n",
      "File \u001b[0;32m~/dev/CM3070/code/.final/lib/python3.11/site-packages/keras/src/backend/tensorflow/trainer.py:598\u001b[0m, in \u001b[0;36mTensorFlowTrainer.train_on_batch\u001b[0;34m(self, x, y, sample_weight, class_weight, return_dict)\u001b[0m\n\u001b[1;32m    595\u001b[0m \u001b[38;5;28;01mdef\u001b[39;00m \u001b[38;5;21mdata\u001b[39m():\n\u001b[1;32m    596\u001b[0m     \u001b[38;5;28;01myield\u001b[39;00m (x, y, sample_weight)\n\u001b[0;32m--> 598\u001b[0m logs \u001b[38;5;241m=\u001b[39m \u001b[38;5;28;43mself\u001b[39;49m\u001b[38;5;241;43m.\u001b[39;49m\u001b[43mtrain_function\u001b[49m\u001b[43m(\u001b[49m\u001b[43mdata\u001b[49m\u001b[43m(\u001b[49m\u001b[43m)\u001b[49m\u001b[43m)\u001b[49m\n\u001b[1;32m    599\u001b[0m logs \u001b[38;5;241m=\u001b[39m tree\u001b[38;5;241m.\u001b[39mmap_structure(\u001b[38;5;28;01mlambda\u001b[39;00m x: np\u001b[38;5;241m.\u001b[39marray(x), logs)\n\u001b[1;32m    600\u001b[0m \u001b[38;5;28;01mif\u001b[39;00m return_dict:\n",
      "File \u001b[0;32m~/dev/CM3070/code/.final/lib/python3.11/site-packages/keras/src/backend/tensorflow/trainer.py:224\u001b[0m, in \u001b[0;36mTensorFlowTrainer._make_function.<locals>.function\u001b[0;34m(iterator)\u001b[0m\n\u001b[1;32m    220\u001b[0m \u001b[38;5;28;01melse\u001b[39;00m:\n\u001b[1;32m    221\u001b[0m     \u001b[38;5;28;01mfor\u001b[39;00m step, data \u001b[38;5;129;01min\u001b[39;00m \u001b[38;5;28mzip\u001b[39m(\n\u001b[1;32m    222\u001b[0m         \u001b[38;5;28mrange\u001b[39m(\u001b[38;5;28mself\u001b[39m\u001b[38;5;241m.\u001b[39msteps_per_execution), iterator\n\u001b[1;32m    223\u001b[0m     ):\n\u001b[0;32m--> 224\u001b[0m         outputs \u001b[38;5;241m=\u001b[39m \u001b[43mone_step_on_data\u001b[49m\u001b[43m(\u001b[49m\u001b[43mdata\u001b[49m\u001b[43m)\u001b[49m\n\u001b[1;32m    225\u001b[0m     \u001b[38;5;28;01mreturn\u001b[39;00m outputs\n",
      "File \u001b[0;32m~/dev/CM3070/code/.final/lib/python3.11/site-packages/tensorflow/python/util/traceback_utils.py:153\u001b[0m, in \u001b[0;36mfilter_traceback.<locals>.error_handler\u001b[0;34m(*args, **kwargs)\u001b[0m\n\u001b[1;32m    151\u001b[0m \u001b[38;5;28;01mexcept\u001b[39;00m \u001b[38;5;167;01mException\u001b[39;00m \u001b[38;5;28;01mas\u001b[39;00m e:\n\u001b[1;32m    152\u001b[0m   filtered_tb \u001b[38;5;241m=\u001b[39m _process_traceback_frames(e\u001b[38;5;241m.\u001b[39m__traceback__)\n\u001b[0;32m--> 153\u001b[0m   \u001b[38;5;28;01mraise\u001b[39;00m e\u001b[38;5;241m.\u001b[39mwith_traceback(filtered_tb) \u001b[38;5;28;01mfrom\u001b[39;00m \u001b[38;5;28;01mNone\u001b[39;00m\n\u001b[1;32m    154\u001b[0m \u001b[38;5;28;01mfinally\u001b[39;00m:\n\u001b[1;32m    155\u001b[0m   \u001b[38;5;28;01mdel\u001b[39;00m filtered_tb\n",
      "File \u001b[0;32m~/dev/CM3070/code/.final/lib/python3.11/site-packages/keras/src/backend/tensorflow/trainer.py:110\u001b[0m, in \u001b[0;36mTensorFlowTrainer._make_function.<locals>.one_step_on_data\u001b[0;34m(data)\u001b[0m\n\u001b[1;32m    107\u001b[0m \u001b[38;5;129m@tf\u001b[39m\u001b[38;5;241m.\u001b[39mautograph\u001b[38;5;241m.\u001b[39mexperimental\u001b[38;5;241m.\u001b[39mdo_not_convert\n\u001b[1;32m    108\u001b[0m \u001b[38;5;28;01mdef\u001b[39;00m \u001b[38;5;21mone_step_on_data\u001b[39m(data):\n\u001b[1;32m    109\u001b[0m \u001b[38;5;250m    \u001b[39m\u001b[38;5;124;03m\"\"\"Runs a single training step on a batch of data.\"\"\"\u001b[39;00m\n\u001b[0;32m--> 110\u001b[0m     outputs \u001b[38;5;241m=\u001b[39m \u001b[38;5;28;43mself\u001b[39;49m\u001b[38;5;241;43m.\u001b[39;49m\u001b[43mdistribute_strategy\u001b[49m\u001b[38;5;241;43m.\u001b[39;49m\u001b[43mrun\u001b[49m\u001b[43m(\u001b[49m\u001b[43mstep_function\u001b[49m\u001b[43m,\u001b[49m\u001b[43m \u001b[49m\u001b[43margs\u001b[49m\u001b[38;5;241;43m=\u001b[39;49m\u001b[43m(\u001b[49m\u001b[43mdata\u001b[49m\u001b[43m,\u001b[49m\u001b[43m)\u001b[49m\u001b[43m)\u001b[49m\n\u001b[1;32m    111\u001b[0m     outputs \u001b[38;5;241m=\u001b[39m reduce_per_replica(\n\u001b[1;32m    112\u001b[0m         outputs,\n\u001b[1;32m    113\u001b[0m         \u001b[38;5;28mself\u001b[39m\u001b[38;5;241m.\u001b[39mdistribute_strategy,\n\u001b[1;32m    114\u001b[0m         reduction\u001b[38;5;241m=\u001b[39m\u001b[38;5;124m\"\u001b[39m\u001b[38;5;124mauto\u001b[39m\u001b[38;5;124m\"\u001b[39m,\n\u001b[1;32m    115\u001b[0m     )\n\u001b[1;32m    116\u001b[0m     \u001b[38;5;28;01mreturn\u001b[39;00m outputs\n",
      "File \u001b[0;32m~/dev/CM3070/code/.final/lib/python3.11/site-packages/keras/src/backend/tensorflow/trainer.py:66\u001b[0m, in \u001b[0;36mTensorFlowTrainer.train_step\u001b[0;34m(self, data)\u001b[0m\n\u001b[1;32m     58\u001b[0m     y_pred \u001b[38;5;241m=\u001b[39m \u001b[38;5;28mself\u001b[39m(x)\n\u001b[1;32m     59\u001b[0m loss \u001b[38;5;241m=\u001b[39m \u001b[38;5;28mself\u001b[39m\u001b[38;5;241m.\u001b[39m_compute_loss(\n\u001b[1;32m     60\u001b[0m     x\u001b[38;5;241m=\u001b[39mx,\n\u001b[1;32m     61\u001b[0m     y\u001b[38;5;241m=\u001b[39my,\n\u001b[0;32m   (...)\u001b[0m\n\u001b[1;32m     64\u001b[0m     training\u001b[38;5;241m=\u001b[39m\u001b[38;5;28;01mTrue\u001b[39;00m,\n\u001b[1;32m     65\u001b[0m )\n\u001b[0;32m---> 66\u001b[0m \u001b[38;5;28;43mself\u001b[39;49m\u001b[38;5;241;43m.\u001b[39;49m\u001b[43m_loss_tracker\u001b[49m\u001b[38;5;241;43m.\u001b[39;49m\u001b[43mupdate_state\u001b[49m(\n\u001b[1;32m     67\u001b[0m     loss, sample_weight\u001b[38;5;241m=\u001b[39mtf\u001b[38;5;241m.\u001b[39mshape(tree\u001b[38;5;241m.\u001b[39mflatten(x)[\u001b[38;5;241m0\u001b[39m])[\u001b[38;5;241m0\u001b[39m]\n\u001b[1;32m     68\u001b[0m )\n\u001b[1;32m     69\u001b[0m \u001b[38;5;28;01mif\u001b[39;00m \u001b[38;5;28mself\u001b[39m\u001b[38;5;241m.\u001b[39moptimizer \u001b[38;5;129;01mis\u001b[39;00m \u001b[38;5;129;01mnot\u001b[39;00m \u001b[38;5;28;01mNone\u001b[39;00m:\n\u001b[1;32m     70\u001b[0m     loss \u001b[38;5;241m=\u001b[39m \u001b[38;5;28mself\u001b[39m\u001b[38;5;241m.\u001b[39moptimizer\u001b[38;5;241m.\u001b[39mscale_loss(loss)\n",
      "\u001b[0;31mAttributeError\u001b[0m: 'NoneType' object has no attribute 'update_state'"
     ]
    }
   ],
   "source": [
    "import numpy as np\n",
    "import pandas as pd\n",
    "from sklearn.model_selection import train_test_split\n",
    "from sklearn.preprocessing import StandardScaler\n",
    "from sklearn.utils import shuffle\n",
    "import tensorflow as tf\n",
    "from tensorflow.keras import layers, Model\n",
    "\n",
    "# Step 1: Read the dataset\n",
    "# Replace 'creditcard.csv' with the correct path to the dataset\n",
    "df = pd.read_csv('creditcard.csv')\n",
    "\n",
    "# Step 2: Preprocess the data\n",
    "# Separate features (X) and target (y)\n",
    "X = df.drop(columns=['Class'])\n",
    "y = df['Class']\n",
    "\n",
    "# Standardize the features\n",
    "scaler = StandardScaler()\n",
    "X_scaled = scaler.fit_transform(X)\n",
    "\n",
    "# Split data into train and test sets\n",
    "X_train, X_test, y_train, y_test = train_test_split(\n",
    "    X_scaled, y, test_size=0.3, random_state=42, stratify=y\n",
    ")\n",
    "\n",
    "# Separate majority and minority classes in training data\n",
    "X_train_majority = X_train[y_train == 0]\n",
    "X_train_minority = X_train[y_train == 1]\n",
    "\n",
    "# Step 3: Define GAN architecture\n",
    "def build_gan(latent_dim, n_features):\n",
    "    \"\"\"\n",
    "    Build Generator, Discriminator, and GAN for GAN-based oversampling.\n",
    "    \"\"\"\n",
    "    # Generator\n",
    "    generator = tf.keras.Sequential([\n",
    "        layers.Dense(64, activation='relu', input_dim=latent_dim),\n",
    "        layers.Dense(128, activation='relu'),\n",
    "        layers.Dense(n_features, activation='tanh')\n",
    "    ])\n",
    "\n",
    "    # Discriminator\n",
    "    discriminator = tf.keras.Sequential([\n",
    "        layers.Dense(128, activation='relu', input_dim=n_features),\n",
    "        layers.Dense(64, activation='relu'),\n",
    "        layers.Dense(1, activation='sigmoid')\n",
    "    ])\n",
    "    discriminator.compile(optimizer=tf.keras.optimizers.Adam(learning_rate=0.0002), loss='binary_crossentropy')\n",
    "\n",
    "    # GAN\n",
    "    discriminator.trainable = False\n",
    "    gan_input = layers.Input(shape=(latent_dim,))\n",
    "    gan_output = discriminator(generator(gan_input))\n",
    "    gan_model = Model(gan_input, gan_output)\n",
    "    gan_model.compile(optimizer=tf.keras.optimizers.Adam(learning_rate=0.0002), loss='binary_crossentropy')\n",
    "\n",
    "    return generator, discriminator, gan_model\n",
    "\n",
    "# Step 4: Train GAN\n",
    "def train_gan(generator, discriminator, gan_model, X_minority, latent_dim, epochs, batch_size):\n",
    "    \"\"\"\n",
    "    Train GAN to generate synthetic samples for the minority class.\n",
    "    \"\"\"\n",
    "    for epoch in range(epochs):\n",
    "        # Generate fake samples\n",
    "        noise = np.random.normal(0, 1, size=(batch_size, latent_dim))\n",
    "        fake_samples = generator.predict(noise)\n",
    "\n",
    "        # Select real samples\n",
    "        idx = np.random.randint(0, X_minority.shape[0], batch_size)\n",
    "        real_samples = X_minority[idx]\n",
    "\n",
    "        # Labels for real and fake samples\n",
    "        real_labels = np.ones((batch_size, 1))\n",
    "        fake_labels = np.zeros((batch_size, 1))\n",
    "\n",
    "        # Train discriminator\n",
    "        d_loss_real = discriminator.train_on_batch(real_samples, real_labels)\n",
    "        d_loss_fake = discriminator.train_on_batch(fake_samples, fake_labels)\n",
    "\n",
    "        # Train generator\n",
    "        noise = np.random.normal(0, 1, size=(batch_size, latent_dim))\n",
    "        g_loss = gan_model.train_on_batch(noise, real_labels)\n",
    "\n",
    "        # Log progress\n",
    "        if epoch % 1000 == 0:\n",
    "            print(f\"Epoch {epoch}: D Loss Real = {d_loss_real}, D Loss Fake = {d_loss_fake}, G Loss = {g_loss}\")\n",
    "\n",
    "# Step 5: Define WGAN architecture\n",
    "def build_wgan(latent_dim, n_features):\n",
    "    \"\"\"\n",
    "    Build Generator and Critic for WGAN-based oversampling.\n",
    "    \"\"\"\n",
    "    # Generator\n",
    "    generator = tf.keras.Sequential([\n",
    "        layers.Dense(64, activation='relu', input_dim=latent_dim),\n",
    "        layers.Dense(128, activation='relu'),\n",
    "        layers.Dense(n_features, activation='tanh')\n",
    "    ])\n",
    "\n",
    "    # Critic\n",
    "    critic = tf.keras.Sequential([\n",
    "        layers.Dense(128, activation='relu', input_dim=n_features),\n",
    "        layers.Dense(64, activation='relu'),\n",
    "        layers.Dense(1)  # Outputs a score, not a probability\n",
    "    ])\n",
    "    critic.compile(optimizer=tf.keras.optimizers.Adam(learning_rate=0.0002), loss='mse')  # Critic loss\n",
    "\n",
    "    return generator, critic\n",
    "\n",
    "# Step 6: Train WGAN\n",
    "def train_wgan(generator, critic, X_minority, latent_dim, epochs, batch_size, critic_steps=5):\n",
    "    \"\"\"\n",
    "    Train WGAN to generate synthetic samples for the minority class.\n",
    "    \"\"\"\n",
    "    for epoch in range(epochs):\n",
    "        for _ in range(critic_steps):\n",
    "            # Generate fake samples\n",
    "            noise = np.random.normal(0, 1, size=(batch_size, latent_dim))\n",
    "            fake_samples = generator.predict(noise)\n",
    "\n",
    "            # Select real samples\n",
    "            idx = np.random.randint(0, X_minority.shape[0], batch_size)\n",
    "            real_samples = X_minority[idx]\n",
    "\n",
    "            # Train critic\n",
    "            real_labels = np.ones((batch_size, 1))\n",
    "            fake_labels = -np.ones((batch_size, 1))\n",
    "            real_loss = critic.train_on_batch(real_samples, real_labels)\n",
    "            fake_loss = critic.train_on_batch(fake_samples, fake_labels)\n",
    "\n",
    "        # Train generator\n",
    "        noise = np.random.normal(0, 1, size=(batch_size, latent_dim))\n",
    "        g_loss = critic.train_on_batch(generator.predict(noise), real_labels)\n",
    "\n",
    "        # Log progress\n",
    "        if epoch % 1000 == 0:\n",
    "            print(f\"Epoch {epoch}: Critic Loss = {real_loss + fake_loss}, G Loss = {g_loss}\")\n",
    "\n",
    "# Step 7: Apply GAN for oversampling\n",
    "latent_dim = 32\n",
    "n_features = X_train.shape[1]\n",
    "batch_size = 64\n",
    "epochs = 5000\n",
    "\n",
    "# Train GAN\n",
    "generator_gan, discriminator_gan, gan_model = build_gan(latent_dim, n_features)\n",
    "train_gan(generator_gan, discriminator_gan, gan_model, X_train_minority, latent_dim, epochs, batch_size)\n",
    "\n",
    "# Generate synthetic samples\n",
    "noise = np.random.normal(0, 1, size=(len(X_train_minority), latent_dim))\n",
    "synthetic_samples_gan = generator_gan.predict(noise)\n",
    "\n",
    "# Combine synthetic samples with original dataset\n",
    "X_train_gan = np.vstack((X_train, synthetic_samples_gan))\n",
    "y_train_gan = np.hstack((y_train, np.ones(len(synthetic_samples_gan))))\n",
    "\n",
    "# Shuffle the dataset\n",
    "X_train_gan, y_train_gan = shuffle(X_train_gan, y_train_gan, random_state=42)\n",
    "\n",
    "# Step 8: Apply WGAN for oversampling\n",
    "generator_wgan, critic_wgan = build_wgan(latent_dim, n_features)\n",
    "train_wgan(generator_wgan, critic_wgan, X_train_minority, latent_dim, epochs, batch_size)\n",
    "\n",
    "# Generate synthetic samples\n",
    "noise = np.random.normal(0, 1, size=(len(X_train_minority), latent_dim))\n",
    "synthetic_samples_wgan = generator_wgan.predict(noise)\n",
    "\n",
    "# Combine synthetic samples with original dataset\n",
    "X_train_wgan = np.vstack((X_train, synthetic_samples_wgan))\n",
    "y_train_wgan = np.hstack((y_train, np.ones(len(synthetic_samples_wgan))))\n",
    "\n",
    "# Shuffle the dataset\n",
    "X_train_wgan, y_train_wgan = shuffle(X_train_wgan, y_train_wgan, random_state=42)\n",
    "\n",
    "# Step 9: Results\n",
    "print(\"GAN-oversampled dataset shape:\", X_train_gan.shape, y_train_gan.shape)\n",
    "print(\"WGAN-oversampled dataset shape:\", X_train_wgan.shape, y_train_wgan.shape)\n"
   ]
  },
  {
   "cell_type": "code",
   "execution_count": 71,
   "id": "cb5a628f-9846-4be8-8899-defb81c47a47",
   "metadata": {},
   "outputs": [
    {
     "name": "stdout",
     "output_type": "stream",
     "text": [
      "Class Distribution Before oversampling:\n",
      "Class\n",
      "0    284315\n",
      "1       492\n",
      "Name: count, dtype: int64\n"
     ]
    },
    {
     "data": {
      "image/png": "[encoded data removed]",
      "text/plain": [
       "<Figure size 640x480 with 1 Axes>"
      ]
     },
     "metadata": {},
     "output_type": "display_data"
    }
   ],
   "source": [
    "# Display class distribution before any oversampling technique is applied\n",
    "print(\"Class Distribution Before oversampling:\")\n",
    "print(df['Class'].value_counts())\n",
    "df['Class'].value_counts().plot(kind='bar', title='Class Distribution (Before oversampling)', xlabel='Class', ylabel='Count')\n",
    "plt.show()"
   ]
  },
  {
   "cell_type": "code",
   "execution_count": 75,
   "id": "c0cc178f-ec44-49f2-a786-be689b1e21cf",
   "metadata": {},
   "outputs": [],
   "source": [
    "class GANOversampling:\n",
    "    def __init__(self, X, y):\n",
    "        \"\"\"\n",
    "        Initialize the class with the original dataset features (X) and target (y).\n",
    "        \"\"\"\n",
    "        self.X = X\n",
    "        self.y = y\n",
    "        self.results = {}\n",
    "\n",
    "    def apply_gan(self, latent_dim=100, epochs=5000, batch_size=64):\n",
    "        \"\"\"\n",
    "        Apply GAN to generate synthetic data for the minority class.\n",
    "        \"\"\"\n",
    "        X_minority = self.X[self.y == 1]  # Filter minority class\n",
    "        n_minority_samples = X_minority.shape[0]\n",
    "        generator, discriminator, gan_model = self._build_gan(latent_dim, X_minority.shape[1])\n",
    "\n",
    "        # Train GAN\n",
    "        self._train_gan(generator, discriminator, gan_model, X_minority, latent_dim, epochs, batch_size)\n",
    "\n",
    "        # Generate synthetic samples\n",
    "        noise = np.random.normal(0, 1, size=(n_minority_samples, latent_dim))\n",
    "        synthetic_data = generator.predict(noise)\n",
    "\n",
    "        # Combine synthetic and original data\n",
    "        X_resampled = np.vstack((self.X, synthetic_data))\n",
    "        y_resampled = np.hstack((self.y, np.ones(len(synthetic_data))))\n",
    "\n",
    "        # Shuffle the dataset\n",
    "        X_resampled, y_resampled = shuffle(X_resampled, y_resampled, random_state=42)\n",
    "\n",
    "        self.results['GAN'] = (X_resampled, y_resampled)\n",
    "\n",
    "    def apply_wgan(self, latent_dim=100, epochs=5000, batch_size=64):\n",
    "        \"\"\"\n",
    "        Apply WGAN to generate synthetic data for the minority class.\n",
    "        \"\"\"\n",
    "        X_minority = self.X[self.y == 1]  # Filter minority class\n",
    "        n_minority_samples = X_minority.shape[0]\n",
    "        generator, critic = self._build_wgan(latent_dim, X_minority.shape[1])\n",
    "\n",
    "        # Train WGAN\n",
    "        self._train_wgan(generator, critic, X_minority, latent_dim, epochs, batch_size)\n",
    "\n",
    "        # Generate synthetic samples\n",
    "        noise = np.random.normal(0, 1, size=(n_minority_samples, latent_dim))\n",
    "        synthetic_data = generator.predict(noise)\n",
    "\n",
    "        # Combine synthetic and original data\n",
    "        X_resampled = np.vstack((self.X, synthetic_data))\n",
    "        y_resampled = np.hstack((self.y, np.ones(len(synthetic_data))))\n",
    "\n",
    "        # Shuffle the dataset\n",
    "        X_resampled, y_resampled = shuffle(X_resampled, y_resampled, random_state=42)\n",
    "\n",
    "        self.results['WGAN'] = (X_resampled, y_resampled)\n",
    "\n",
    "    # --- Helper functions for GAN ---\n",
    "    def _build_gan(self, latent_dim, n_features):\n",
    "        \"\"\"\n",
    "        Build the generator, discriminator, and GAN model.\n",
    "        \"\"\"\n",
    "        # Generator\n",
    "        generator = tf.keras.Sequential([\n",
    "            layers.Dense(128, activation='relu', input_dim=latent_dim),\n",
    "            layers.Dense(64, activation='relu'),\n",
    "            layers.Dense(n_features, activation='tanh')\n",
    "        ])\n",
    "\n",
    "        # Discriminator\n",
    "        discriminator = tf.keras.Sequential([\n",
    "            layers.Dense(128, activation='relu', input_dim=n_features),\n",
    "            layers.Dense(64, activation='relu'),\n",
    "            layers.Dense(1, activation='sigmoid')\n",
    "        ])\n",
    "        discriminator.compile(optimizer='adam', loss='binary_crossentropy', metrics=['accuracy'])\n",
    "\n",
    "        # GAN (Generator + Discriminator)\n",
    "        discriminator.trainable = False\n",
    "        gan_input = layers.Input(shape=(latent_dim,))\n",
    "        gan_output = discriminator(generator(gan_input))\n",
    "        gan_model = Model(gan_input, gan_output)\n",
    "        gan_model.compile(optimizer='adam', loss='binary_crossentropy')\n",
    "\n",
    "        return generator, discriminator, gan_model\n",
    "\n",
    "    def _train_gan(self, generator, discriminator, gan_model, X_minority, latent_dim, epochs, batch_size):\n",
    "        \"\"\"\n",
    "        Train the GAN model.\n",
    "        \"\"\"\n",
    "        for epoch in range(epochs):\n",
    "            # Generate fake data\n",
    "            noise = np.random.normal(0, 1, size=(batch_size, latent_dim))\n",
    "            fake_data = generator.predict(noise)\n",
    "\n",
    "            # Select real data\n",
    "            idx = np.random.randint(0, X_minority.shape[0], batch_size)\n",
    "            real_data = X_minority.iloc[idx]\n",
    "\n",
    "            # Train discriminator\n",
    "            d_loss_real = discriminator.train_on_batch(real_data, np.ones((batch_size, 1)))\n",
    "            d_loss_fake = discriminator.train_on_batch(fake_data, np.zeros((batch_size, 1)))\n",
    "\n",
    "            # Train generator\n",
    "            noise = np.random.normal(0, 1, size=(batch_size, latent_dim))\n",
    "            g_loss = gan_model.train_on_batch(noise, np.ones((batch_size, 1)))\n",
    "\n",
    "            # Optionally log progress\n",
    "            if epoch % 1000 == 0:\n",
    "                print(f\"Epoch {epoch}, D Loss: {d_loss_real + d_loss_fake}, G Loss: {g_loss}\")\n",
    "\n",
    "    # --- Helper functions for WGAN ---\n",
    "    def _build_wgan(self, latent_dim, n_features):\n",
    "        \"\"\"\n",
    "        Build the generator and critic for WGAN.\n",
    "        \"\"\"\n",
    "        # Generator\n",
    "        generator = tf.keras.Sequential([\n",
    "            layers.Dense(128, activation='relu', input_dim=latent_dim),\n",
    "            layers.Dense(64, activation='relu'),\n",
    "            layers.Dense(n_features, activation='tanh')\n",
    "        ])\n",
    "\n",
    "        # Critic (similar to a discriminator, but outputs real-valued scores instead of probabilities)\n",
    "        critic = tf.keras.Sequential([\n",
    "            layers.Dense(128, activation='relu', input_dim=n_features),\n",
    "            layers.Dense(64, activation='relu'),\n",
    "            layers.Dense(1)\n",
    "        ])\n",
    "        critic.compile(optimizer='adam', loss='mse')  # Loss function for WGAN critic\n",
    "\n",
    "        return generator, critic\n",
    "\n",
    "    def _train_wgan(self, generator, critic, X_minority, latent_dim, epochs, batch_size):\n",
    "        \"\"\"\n",
    "        Train the WGAN model.\n",
    "        \"\"\"\n",
    "        for epoch in range(epochs):\n",
    "            # Generate fake data\n",
    "            noise = np.random.normal(0, 1, size=(batch_size, latent_dim))\n",
    "            fake_data = generator.predict(noise)\n",
    "\n",
    "            # Select real data\n",
    "            idx = np.random.randint(0, X_minority.shape[0], batch_size)\n",
    "            real_data = X_minority[idx]\n",
    "\n",
    "            # Train critic\n",
    "            real_loss = critic.train_on_batch(real_data, np.ones((batch_size, 1)))\n",
    "            fake_loss = critic.train_on_batch(fake_data, -np.ones((batch_size, 1)))\n",
    "\n",
    "            # Train generator\n",
    "            noise = np.random.normal(0, 1, size=(batch_size, latent_dim))\n",
    "            g_loss = critic.train_on_batch(generator.predict(noise), np.ones((batch_size, 1)))\n",
    "\n",
    "            # Optionally log progress\n",
    "            if epoch % 1000 == 0:\n",
    "                print(f\"Epoch {epoch}, Critic Loss: {real_loss + fake_loss}, G Loss: {g_loss}\")\n",
    "\n",
    "    def get_resampled_data(self, method):\n",
    "        \"\"\"\n",
    "        Retrieve the resampled dataset for a given oversampling method.\n",
    "        :param method: String indicating the oversampling method (e.g., 'SMOTE', 'GAN', or 'WGAN').\n",
    "        :return: Tuple of resampled features (X) and target (y).\n",
    "        \"\"\"\n",
    "        return self.results.get(method, None)\n"
   ]
  },
  {
   "cell_type": "code",
   "execution_count": 76,
   "id": "269f5852-8387-45ed-8b96-2c4c1298438d",
   "metadata": {},
   "outputs": [
    {
     "name": "stdout",
     "output_type": "stream",
     "text": [
      "Index(['V1', 'V2', 'V3', 'V4', 'V5', 'V6', 'V7', 'V8', 'V9', 'V10', 'V11',\n",
      "       'V12', 'V13', 'V14', 'V15', 'V16', 'V17', 'V18', 'V19', 'V20', 'V21',\n",
      "       'V22', 'V23', 'V24', 'V25', 'V26', 'V27', 'V28', 'Amount'],\n",
      "      dtype='object')\n",
      "RangeIndex(start=0, stop=284807, step=1)\n",
      "(284807, 29)\n"
     ]
    }
   ],
   "source": [
    "print(X.columns)  # Check column names\n",
    "print(X.index)    # Check row indices\n",
    "print(X.shape)    # Check shape of the DataFrame"
   ]
  },
  {
   "cell_type": "code",
   "execution_count": 77,
   "id": "6183b8e3-6bac-4bec-87f4-3fe9d7ee3ddf",
   "metadata": {},
   "outputs": [
    {
     "name": "stdout",
     "output_type": "stream",
     "text": [
      "\u001b[1m2/2\u001b[0m \u001b[32m━━━━━━━━━━━━━━━━━━━━\u001b[0m\u001b[37m\u001b[0m \u001b[1m0s\u001b[0m 22ms/step\n"
     ]
    },
    {
     "name": "stderr",
     "output_type": "stream",
     "text": [
      "/home/kino/dev/CM3070/code/.final/lib/python3.11/site-packages/keras/src/layers/core/dense.py:87: UserWarning: Do not pass an `input_shape`/`input_dim` argument to a layer. When using Sequential models, prefer using an `Input(shape)` object as the first layer in the model instead.\n",
      "  super().__init__(activity_regularizer=activity_regularizer, **kwargs)\n"
     ]
    },
    {
     "ename": "AttributeError",
     "evalue": "'NoneType' object has no attribute 'update_state'",
     "output_type": "error",
     "traceback": [
      "\u001b[0;31m---------------------------------------------------------------------------\u001b[0m",
      "\u001b[0;31mAttributeError\u001b[0m                            Traceback (most recent call last)",
      "Cell \u001b[0;32mIn[77], line 2\u001b[0m\n\u001b[1;32m      1\u001b[0m ganOversampling \u001b[38;5;241m=\u001b[39m GANOversampling(X_train, y_train)\n\u001b[0;32m----> 2\u001b[0m \u001b[43mganOversampling\u001b[49m\u001b[38;5;241;43m.\u001b[39;49m\u001b[43mapply_gan\u001b[49m\u001b[43m(\u001b[49m\u001b[43m)\u001b[49m\n",
      "Cell \u001b[0;32mIn[75], line 19\u001b[0m, in \u001b[0;36mGANOversampling.apply_gan\u001b[0;34m(self, latent_dim, epochs, batch_size)\u001b[0m\n\u001b[1;32m     16\u001b[0m generator, discriminator, gan_model \u001b[38;5;241m=\u001b[39m \u001b[38;5;28mself\u001b[39m\u001b[38;5;241m.\u001b[39m_build_gan(latent_dim, X_minority\u001b[38;5;241m.\u001b[39mshape[\u001b[38;5;241m1\u001b[39m])\n\u001b[1;32m     18\u001b[0m \u001b[38;5;66;03m# Train GAN\u001b[39;00m\n\u001b[0;32m---> 19\u001b[0m \u001b[38;5;28;43mself\u001b[39;49m\u001b[38;5;241;43m.\u001b[39;49m\u001b[43m_train_gan\u001b[49m\u001b[43m(\u001b[49m\u001b[43mgenerator\u001b[49m\u001b[43m,\u001b[49m\u001b[43m \u001b[49m\u001b[43mdiscriminator\u001b[49m\u001b[43m,\u001b[49m\u001b[43m \u001b[49m\u001b[43mgan_model\u001b[49m\u001b[43m,\u001b[49m\u001b[43m \u001b[49m\u001b[43mX_minority\u001b[49m\u001b[43m,\u001b[49m\u001b[43m \u001b[49m\u001b[43mlatent_dim\u001b[49m\u001b[43m,\u001b[49m\u001b[43m \u001b[49m\u001b[43mepochs\u001b[49m\u001b[43m,\u001b[49m\u001b[43m \u001b[49m\u001b[43mbatch_size\u001b[49m\u001b[43m)\u001b[49m\n\u001b[1;32m     21\u001b[0m \u001b[38;5;66;03m# Generate synthetic samples\u001b[39;00m\n\u001b[1;32m     22\u001b[0m noise \u001b[38;5;241m=\u001b[39m np\u001b[38;5;241m.\u001b[39mrandom\u001b[38;5;241m.\u001b[39mnormal(\u001b[38;5;241m0\u001b[39m, \u001b[38;5;241m1\u001b[39m, size\u001b[38;5;241m=\u001b[39m(n_minority_samples, latent_dim))\n",
      "Cell \u001b[0;32mIn[75], line 101\u001b[0m, in \u001b[0;36mGANOversampling._train_gan\u001b[0;34m(self, generator, discriminator, gan_model, X_minority, latent_dim, epochs, batch_size)\u001b[0m\n\u001b[1;32m     98\u001b[0m real_data \u001b[38;5;241m=\u001b[39m X_minority\u001b[38;5;241m.\u001b[39miloc[idx]\n\u001b[1;32m    100\u001b[0m \u001b[38;5;66;03m# Train discriminator\u001b[39;00m\n\u001b[0;32m--> 101\u001b[0m d_loss_real \u001b[38;5;241m=\u001b[39m \u001b[43mdiscriminator\u001b[49m\u001b[38;5;241;43m.\u001b[39;49m\u001b[43mtrain_on_batch\u001b[49m\u001b[43m(\u001b[49m\u001b[43mreal_data\u001b[49m\u001b[43m,\u001b[49m\u001b[43m \u001b[49m\u001b[43mnp\u001b[49m\u001b[38;5;241;43m.\u001b[39;49m\u001b[43mones\u001b[49m\u001b[43m(\u001b[49m\u001b[43m(\u001b[49m\u001b[43mbatch_size\u001b[49m\u001b[43m,\u001b[49m\u001b[43m \u001b[49m\u001b[38;5;241;43m1\u001b[39;49m\u001b[43m)\u001b[49m\u001b[43m)\u001b[49m\u001b[43m)\u001b[49m\n\u001b[1;32m    102\u001b[0m d_loss_fake \u001b[38;5;241m=\u001b[39m discriminator\u001b[38;5;241m.\u001b[39mtrain_on_batch(fake_data, np\u001b[38;5;241m.\u001b[39mzeros((batch_size, \u001b[38;5;241m1\u001b[39m)))\n\u001b[1;32m    104\u001b[0m \u001b[38;5;66;03m# Train generator\u001b[39;00m\n",
      "File \u001b[0;32m~/dev/CM3070/code/.final/lib/python3.11/site-packages/keras/src/backend/tensorflow/trainer.py:598\u001b[0m, in \u001b[0;36mTensorFlowTrainer.train_on_batch\u001b[0;34m(self, x, y, sample_weight, class_weight, return_dict)\u001b[0m\n\u001b[1;32m    595\u001b[0m \u001b[38;5;28;01mdef\u001b[39;00m \u001b[38;5;21mdata\u001b[39m():\n\u001b[1;32m    596\u001b[0m     \u001b[38;5;28;01myield\u001b[39;00m (x, y, sample_weight)\n\u001b[0;32m--> 598\u001b[0m logs \u001b[38;5;241m=\u001b[39m \u001b[38;5;28;43mself\u001b[39;49m\u001b[38;5;241;43m.\u001b[39;49m\u001b[43mtrain_function\u001b[49m\u001b[43m(\u001b[49m\u001b[43mdata\u001b[49m\u001b[43m(\u001b[49m\u001b[43m)\u001b[49m\u001b[43m)\u001b[49m\n\u001b[1;32m    599\u001b[0m logs \u001b[38;5;241m=\u001b[39m tree\u001b[38;5;241m.\u001b[39mmap_structure(\u001b[38;5;28;01mlambda\u001b[39;00m x: np\u001b[38;5;241m.\u001b[39marray(x), logs)\n\u001b[1;32m    600\u001b[0m \u001b[38;5;28;01mif\u001b[39;00m return_dict:\n",
      "File \u001b[0;32m~/dev/CM3070/code/.final/lib/python3.11/site-packages/keras/src/backend/tensorflow/trainer.py:224\u001b[0m, in \u001b[0;36mTensorFlowTrainer._make_function.<locals>.function\u001b[0;34m(iterator)\u001b[0m\n\u001b[1;32m    220\u001b[0m \u001b[38;5;28;01melse\u001b[39;00m:\n\u001b[1;32m    221\u001b[0m     \u001b[38;5;28;01mfor\u001b[39;00m step, data \u001b[38;5;129;01min\u001b[39;00m \u001b[38;5;28mzip\u001b[39m(\n\u001b[1;32m    222\u001b[0m         \u001b[38;5;28mrange\u001b[39m(\u001b[38;5;28mself\u001b[39m\u001b[38;5;241m.\u001b[39msteps_per_execution), iterator\n\u001b[1;32m    223\u001b[0m     ):\n\u001b[0;32m--> 224\u001b[0m         outputs \u001b[38;5;241m=\u001b[39m \u001b[43mone_step_on_data\u001b[49m\u001b[43m(\u001b[49m\u001b[43mdata\u001b[49m\u001b[43m)\u001b[49m\n\u001b[1;32m    225\u001b[0m     \u001b[38;5;28;01mreturn\u001b[39;00m outputs\n",
      "File \u001b[0;32m~/dev/CM3070/code/.final/lib/python3.11/site-packages/tensorflow/python/util/traceback_utils.py:153\u001b[0m, in \u001b[0;36mfilter_traceback.<locals>.error_handler\u001b[0;34m(*args, **kwargs)\u001b[0m\n\u001b[1;32m    151\u001b[0m \u001b[38;5;28;01mexcept\u001b[39;00m \u001b[38;5;167;01mException\u001b[39;00m \u001b[38;5;28;01mas\u001b[39;00m e:\n\u001b[1;32m    152\u001b[0m   filtered_tb \u001b[38;5;241m=\u001b[39m _process_traceback_frames(e\u001b[38;5;241m.\u001b[39m__traceback__)\n\u001b[0;32m--> 153\u001b[0m   \u001b[38;5;28;01mraise\u001b[39;00m e\u001b[38;5;241m.\u001b[39mwith_traceback(filtered_tb) \u001b[38;5;28;01mfrom\u001b[39;00m \u001b[38;5;28;01mNone\u001b[39;00m\n\u001b[1;32m    154\u001b[0m \u001b[38;5;28;01mfinally\u001b[39;00m:\n\u001b[1;32m    155\u001b[0m   \u001b[38;5;28;01mdel\u001b[39;00m filtered_tb\n",
      "File \u001b[0;32m~/dev/CM3070/code/.final/lib/python3.11/site-packages/keras/src/backend/tensorflow/trainer.py:110\u001b[0m, in \u001b[0;36mTensorFlowTrainer._make_function.<locals>.one_step_on_data\u001b[0;34m(data)\u001b[0m\n\u001b[1;32m    107\u001b[0m \u001b[38;5;129m@tf\u001b[39m\u001b[38;5;241m.\u001b[39mautograph\u001b[38;5;241m.\u001b[39mexperimental\u001b[38;5;241m.\u001b[39mdo_not_convert\n\u001b[1;32m    108\u001b[0m \u001b[38;5;28;01mdef\u001b[39;00m \u001b[38;5;21mone_step_on_data\u001b[39m(data):\n\u001b[1;32m    109\u001b[0m \u001b[38;5;250m    \u001b[39m\u001b[38;5;124;03m\"\"\"Runs a single training step on a batch of data.\"\"\"\u001b[39;00m\n\u001b[0;32m--> 110\u001b[0m     outputs \u001b[38;5;241m=\u001b[39m \u001b[38;5;28;43mself\u001b[39;49m\u001b[38;5;241;43m.\u001b[39;49m\u001b[43mdistribute_strategy\u001b[49m\u001b[38;5;241;43m.\u001b[39;49m\u001b[43mrun\u001b[49m\u001b[43m(\u001b[49m\u001b[43mstep_function\u001b[49m\u001b[43m,\u001b[49m\u001b[43m \u001b[49m\u001b[43margs\u001b[49m\u001b[38;5;241;43m=\u001b[39;49m\u001b[43m(\u001b[49m\u001b[43mdata\u001b[49m\u001b[43m,\u001b[49m\u001b[43m)\u001b[49m\u001b[43m)\u001b[49m\n\u001b[1;32m    111\u001b[0m     outputs \u001b[38;5;241m=\u001b[39m reduce_per_replica(\n\u001b[1;32m    112\u001b[0m         outputs,\n\u001b[1;32m    113\u001b[0m         \u001b[38;5;28mself\u001b[39m\u001b[38;5;241m.\u001b[39mdistribute_strategy,\n\u001b[1;32m    114\u001b[0m         reduction\u001b[38;5;241m=\u001b[39m\u001b[38;5;124m\"\u001b[39m\u001b[38;5;124mauto\u001b[39m\u001b[38;5;124m\"\u001b[39m,\n\u001b[1;32m    115\u001b[0m     )\n\u001b[1;32m    116\u001b[0m     \u001b[38;5;28;01mreturn\u001b[39;00m outputs\n",
      "File \u001b[0;32m~/dev/CM3070/code/.final/lib/python3.11/site-packages/keras/src/backend/tensorflow/trainer.py:66\u001b[0m, in \u001b[0;36mTensorFlowTrainer.train_step\u001b[0;34m(self, data)\u001b[0m\n\u001b[1;32m     58\u001b[0m     y_pred \u001b[38;5;241m=\u001b[39m \u001b[38;5;28mself\u001b[39m(x)\n\u001b[1;32m     59\u001b[0m loss \u001b[38;5;241m=\u001b[39m \u001b[38;5;28mself\u001b[39m\u001b[38;5;241m.\u001b[39m_compute_loss(\n\u001b[1;32m     60\u001b[0m     x\u001b[38;5;241m=\u001b[39mx,\n\u001b[1;32m     61\u001b[0m     y\u001b[38;5;241m=\u001b[39my,\n\u001b[0;32m   (...)\u001b[0m\n\u001b[1;32m     64\u001b[0m     training\u001b[38;5;241m=\u001b[39m\u001b[38;5;28;01mTrue\u001b[39;00m,\n\u001b[1;32m     65\u001b[0m )\n\u001b[0;32m---> 66\u001b[0m \u001b[38;5;28;43mself\u001b[39;49m\u001b[38;5;241;43m.\u001b[39;49m\u001b[43m_loss_tracker\u001b[49m\u001b[38;5;241;43m.\u001b[39;49m\u001b[43mupdate_state\u001b[49m(\n\u001b[1;32m     67\u001b[0m     loss, sample_weight\u001b[38;5;241m=\u001b[39mtf\u001b[38;5;241m.\u001b[39mshape(tree\u001b[38;5;241m.\u001b[39mflatten(x)[\u001b[38;5;241m0\u001b[39m])[\u001b[38;5;241m0\u001b[39m]\n\u001b[1;32m     68\u001b[0m )\n\u001b[1;32m     69\u001b[0m \u001b[38;5;28;01mif\u001b[39;00m \u001b[38;5;28mself\u001b[39m\u001b[38;5;241m.\u001b[39moptimizer \u001b[38;5;129;01mis\u001b[39;00m \u001b[38;5;129;01mnot\u001b[39;00m \u001b[38;5;28;01mNone\u001b[39;00m:\n\u001b[1;32m     70\u001b[0m     loss \u001b[38;5;241m=\u001b[39m \u001b[38;5;28mself\u001b[39m\u001b[38;5;241m.\u001b[39moptimizer\u001b[38;5;241m.\u001b[39mscale_loss(loss)\n",
      "\u001b[0;31mAttributeError\u001b[0m: 'NoneType' object has no attribute 'update_state'"
     ]
    }
   ],
   "source": [
    "ganOversampling = GANOversampling(X_train, y_train)\n",
    "ganOversampling.apply_gan()"
   ]
  },
  {
   "cell_type": "code",
   "execution_count": 44,
   "id": "7dc05b2b-e3c6-4553-af15-b6f60c0e5cdb",
   "metadata": {},
   "outputs": [
    {
     "ename": "AttributeError",
     "evalue": "'OversamplingTechniques' object has no attribute '_build_gan'",
     "output_type": "error",
     "traceback": [
      "\u001b[0;31m---------------------------------------------------------------------------\u001b[0m",
      "\u001b[0;31mAttributeError\u001b[0m                            Traceback (most recent call last)",
      "Cell \u001b[0;32mIn[44], line 9\u001b[0m\n\u001b[1;32m      7\u001b[0m oversampling\u001b[38;5;241m.\u001b[39mapply_borderline_smote()\n\u001b[1;32m      8\u001b[0m oversampling\u001b[38;5;241m.\u001b[39mapply_random_oversampling()\n\u001b[0;32m----> 9\u001b[0m \u001b[43moversampling\u001b[49m\u001b[38;5;241;43m.\u001b[39;49m\u001b[43mapply_gan\u001b[49m\u001b[43m(\u001b[49m\u001b[43m)\u001b[49m\n\u001b[1;32m     10\u001b[0m oversampling\u001b[38;5;241m.\u001b[39mapply_wgan()\n",
      "Cell \u001b[0;32mIn[43], line 48\u001b[0m, in \u001b[0;36mOversamplingTechniques.apply_gan\u001b[0;34m(self, latent_dim, epochs, batch_size)\u001b[0m\n\u001b[1;32m     46\u001b[0m X_minority \u001b[38;5;241m=\u001b[39m \u001b[38;5;28mself\u001b[39m\u001b[38;5;241m.\u001b[39mX[\u001b[38;5;28mself\u001b[39m\u001b[38;5;241m.\u001b[39my \u001b[38;5;241m==\u001b[39m \u001b[38;5;241m1\u001b[39m]  \u001b[38;5;66;03m# Filter minority class\u001b[39;00m\n\u001b[1;32m     47\u001b[0m n_minority_samples \u001b[38;5;241m=\u001b[39m X_minority\u001b[38;5;241m.\u001b[39mshape[\u001b[38;5;241m0\u001b[39m]\n\u001b[0;32m---> 48\u001b[0m generator, discriminator, gan_model \u001b[38;5;241m=\u001b[39m \u001b[38;5;28;43mself\u001b[39;49m\u001b[38;5;241;43m.\u001b[39;49m\u001b[43m_build_gan\u001b[49m(latent_dim, X_minority\u001b[38;5;241m.\u001b[39mshape[\u001b[38;5;241m1\u001b[39m])\n\u001b[1;32m     50\u001b[0m \u001b[38;5;66;03m# Train GAN\u001b[39;00m\n\u001b[1;32m     51\u001b[0m \u001b[38;5;28mself\u001b[39m\u001b[38;5;241m.\u001b[39m_train_gan(generator, discriminator, gan_model, X_minority, latent_dim, epochs, batch_size)\n",
      "\u001b[0;31mAttributeError\u001b[0m: 'OversamplingTechniques' object has no attribute '_build_gan'"
     ]
    }
   ],
   "source": [
    "# Initialize the OversamplingTechniques class with training data\n",
    "oversampling = OversamplingTechniques(X_train, y_train)\n",
    "\n",
    "# Apply different oversampling techniques\n",
    "oversampling.apply_smote()\n",
    "oversampling.apply_adasyn()\n",
    "oversampling.apply_borderline_smote()\n",
    "oversampling.apply_random_oversampling()\n",
    "oversampling.apply_gan()\n",
    "oversampling.apply_wgan()"
   ]
  },
  {
   "cell_type": "code",
   "execution_count": 35,
   "id": "94c8fb46",
   "metadata": {},
   "outputs": [
    {
     "name": "stdout",
     "output_type": "stream",
     "text": [
      "Training Class Distribution After SMOTE:\n",
      "Class\n",
      "0    199020\n",
      "1    199020\n",
      "Name: count, dtype: int64\n"
     ]
    },
    {
     "data": {
      "image/png": "[encoded data removed]",
      "text/plain": [
       "<Figure size 640x480 with 1 Axes>"
      ]
     },
     "metadata": {},
     "output_type": "display_data"
    }
   ],
   "source": [
    "# Apply SMOTE to balance the training data\n",
    "smote_X, smote_y = oversampling.get_resampled_data('SMOTE')\n",
    "\n",
    "# Check class distribution after SMOTE\n",
    "print(\"Training Class Distribution After SMOTE:\")\n",
    "print(pd.Series(smote_y).value_counts())\n",
    "\n",
    "# Visualize the balanced class distribution\n",
    "pd.Series(smote_y).value_counts().plot(kind='bar', title='Class Distribution (After SMOTE)', xlabel='Class', ylabel='Count')\n",
    "plt.show()"
   ]
  },
  {
   "cell_type": "markdown",
   "id": "98d7ec8e-3d77-43b1-8cc9-32d2897d6e65",
   "metadata": {},
   "source": [
    "#### Class for calculating the time taken to execute the code"
   ]
  },
  {
   "cell_type": "code",
   "execution_count": 36,
   "id": "d1964c58-14e2-4570-bccf-c5d078109853",
   "metadata": {},
   "outputs": [],
   "source": [
    "import time\n",
    "\n",
    "class Timer:\n",
    "    def __init__(self):\n",
    "        \"\"\"Initialize the timer with no start time\"\"\"\n",
    "        self.start_time = None\n",
    "\n",
    "    def start(self):\n",
    "        \"\"\"Start the timer\"\"\"\n",
    "        self.start_time = time.time()        \n",
    "\n",
    "    def elapsed(self):\n",
    "        \"\"\"Calculate the time elapsed since the timer was started\"\"\"\n",
    "        if self.start_time is None:\n",
    "            raise ValueError(\"Timer has not been started. Call `start()` before `elapsed()`\")\n",
    "        elapsed_time = time.time() - self.start_time\n",
    "        return elapsed_time\n",
    "\n",
    "    def stop(self):\n",
    "        \"\"\"Stop the timer and reset the start_time\"\"\"\n",
    "        self.start_time = None\n",
    "\n",
    "# Create the Timer object\n",
    "timer = Timer()"
   ]
  },
  {
   "cell_type": "markdown",
   "id": "d71dede9-7686-495b-a0fd-af307b29b079",
   "metadata": {},
   "source": [
    "#### Machine Learning models"
   ]
  },
  {
   "cell_type": "code",
   "execution_count": null,
   "id": "d15a3e51-b44e-4cf8-8577-81af8f1cd7f2",
   "metadata": {},
   "outputs": [],
   "source": []
  },
  {
   "cell_type": "code",
   "execution_count": null,
   "id": "66380f9f-b2c1-4b2a-85a8-6dae1effdd34",
   "metadata": {},
   "outputs": [],
   "source": [
    "# Start the timer\n",
    "timer.start()\n",
    "\n",
    "# Train a Random Forest Classifier on the balanced dataset\n",
    "clf = RandomForestClassifier(random_state=42)\n",
    "clf.fit(X_train_smote, y_train_smote)\n",
    "\n",
    "# Calculate the elapsed time for the training\n",
    "elapsed_time = timer.elapsed()\n",
    "print(f\"Elapsed time: {elapsed_time:.2f} seconds\")\n",
    "timer.stop()"
   ]
  },
  {
   "cell_type": "code",
   "execution_count": null,
   "id": "3660f4d8-a3ba-48b1-9ce7-45bfbeaf96ff",
   "metadata": {},
   "outputs": [],
   "source": [
    "# Start the timer\n",
    "timer.start()\n",
    "\n",
    "# Make predictions on the test set\n",
    "y_pred = clf.predict(X_test)\n",
    "\n",
    "# Calculate the elapsed time for the training\n",
    "elapsed_time = timer.elapsed()\n",
    "print(f\"Elapsed time: {elapsed_time:.2f} seconds\")\n",
    "timer.stop()\n",
    "\n",
    "# Evaluate the model\n",
    "print(\"Classification Report:\\n\", classification_report(y_pred, y_test))\n",
    "print(\"Accuracy:\", accuracy_score(y_pred, y_test))\n",
    "\n",
    "# Visualize confusion matrix\n",
    "conf_matrix = confusion_matrix(y_test, y_pred)\n",
    "plt.matshow(conf_matrix, cmap='Blues', alpha=0.7)\n",
    "for i in range(conf_matrix.shape[0]):\n",
    "    for j in range(conf_matrix.shape[1]):\n",
    "        plt.text(x=j, y=i, s=conf_matrix[i, j], va='center', ha='center')\n",
    "\n",
    "plt.title('Confusion Matrix')\n",
    "plt.xlabel('True Label')\n",
    "plt.ylabel('Predicted Label')\n",
    "plt.show()\n"
   ]
  },
  {
   "cell_type": "code",
   "execution_count": null,
   "id": "2fb07a56-0627-4e27-9222-280388e0b7ed",
   "metadata": {},
   "outputs": [],
   "source": [
    "# Build the Autoencoder model\n",
    "def build_autoencoder(input_dim):\n",
    "    model = models.Sequential([\n",
    "        layers.Input(shape=(input_dim,)),\n",
    "        # Encoder\n",
    "        layers.Dense(32, activation='relu'),\n",
    "        layers.Dense(16, activation='relu'),\n",
    "        layers.Dense(8, activation='relu'),  # Bottleneck (compressed representation)\n",
    "        # Decoder\n",
    "        layers.Dense(16, activation='relu'),\n",
    "        layers.Dense(32, activation='relu'),\n",
    "        layers.Dense(input_dim, activation='sigmoid')  # Output layer matches input\n",
    "    ])\n",
    "    return model"
   ]
  },
  {
   "cell_type": "code",
   "execution_count": null,
   "id": "39d8e80f-426a-463b-9e87-e45a0da88c8f",
   "metadata": {},
   "outputs": [],
   "source": [
    "# Separate features and labels\n",
    "# The Class feature is not required in an unsupervised learning model\n",
    "X = df.drop(columns=['Class'], axis=1)  # Features\n",
    "y = df['Class']  # Labels\n",
    "\n",
    "# Normalize the features\n",
    "scaler = StandardScaler()\n",
    "X_normalized = scaler.fit_transform(X)\n",
    "\n",
    "# Separate normal (non-fraudulent) transactions for training the Autoencoder\n",
    "X_normal = X_normalized[y == 0]\n",
    "\n",
    "# Split the normal transactions into training and validation sets\n",
    "X_train, X_val = train_test_split(X_normal, test_size=0.2, random_state=42)\n",
    "\n",
    "# Initialize the Autoencoder\n",
    "input_dim = X_train.shape[1]\n",
    "autoencoder = build_autoencoder(input_dim)\n",
    "\n",
    "# Compile the Autoencoder\n",
    "autoencoder.compile(optimizer='adam', loss='mse')\n",
    "\n",
    "# Start the timer\n",
    "timer.start()\n",
    "\n",
    "# Train the Autoencoder\n",
    "history = autoencoder.fit(\n",
    "    X_train, X_train,  # Input is the same as the target\n",
    "    validation_data=(X_val, X_val),\n",
    "    epochs=50,\n",
    "    batch_size=64,\n",
    "    verbose=1\n",
    ")   \n",
    "\n",
    "# Calculate the elapsed time for the training\n",
    "elapsed_time = timer.elapsed()\n",
    "print(f\"Elapsed time: {elapsed_time:.2f} seconds\")\n",
    "timer.stop()"
   ]
  },
  {
   "cell_type": "code",
   "execution_count": null,
   "id": "53095a07-b811-4fb7-982a-998ed99bb7df",
   "metadata": {},
   "outputs": [],
   "source": [
    "# Plot training and validation loss\n",
    "plt.figure(figsize=(8, 5))\n",
    "plt.plot(history.history['loss'], label='Train Loss')\n",
    "plt.plot(history.history['val_loss'], label='Validation Loss')\n",
    "plt.xlabel('Epochs')\n",
    "plt.ylabel('Loss')\n",
    "plt.legend()\n",
    "plt.title('Training and Validation Loss')\n",
    "plt.show()"
   ]
  },
  {
   "cell_type": "code",
   "execution_count": null,
   "id": "e3b1715d-711e-442a-b220-4f27db156995",
   "metadata": {},
   "outputs": [],
   "source": [
    "# Use the Autoencoder to calculate reconstruction errors\n",
    "X_reconstructed = autoencoder.predict(X_normalized)\n",
    "reconstruction_errors = np.mean(np.square(X_normalized - X_reconstructed), axis=1)\n",
    "\n",
    "# Set a threshold for anomalies based on normal transactions' errors\n",
    "threshold = np.percentile(reconstruction_errors[y == 0], 99)  # 98th percentile\n",
    "\n",
    "# Classify anomalies (fraud) based on reconstruction error\n",
    "y_pred = (reconstruction_errors > threshold).astype(int)\n",
    "\n",
    "# Evaluate the results\n",
    "print(\"Classification Report:\\n\", classification_report(y, y_pred))\n",
    "print(\"Confusion Matrix:\\n\", confusion_matrix(y, y_pred))\n",
    "print(\"Accuracy:\", accuracy_score(y, y_pred))\n",
    "\n",
    "# Visualize reconstruction error distributions\n",
    "plt.figure(figsize=(8, 5))\n",
    "plt.hist(reconstruction_errors[y == 0], bins=50, alpha=0.6, label='Normal')\n",
    "plt.hist(reconstruction_errors[y == 1], bins=50, alpha=0.6, label='Fraud')\n",
    "plt.axvline(threshold, color='red', linestyle='--', label='Threshold')\n",
    "plt.xlabel('Reconstruction Error')\n",
    "plt.ylabel('Frequency')\n",
    "plt.legend()\n",
    "plt.title('Reconstruction Error Distribution')\n",
    "plt.show()"
   ]
  },
  {
   "cell_type": "code",
   "execution_count": null,
   "id": "160592c4-86ba-4f67-b0dc-8fb9fb5a0e76",
   "metadata": {},
   "outputs": [],
   "source": [
    "# Visualize confusion matrix\n",
    "conf_matrix = confusion_matrix(y, y_pred)\n",
    "plt.matshow(conf_matrix, cmap='Blues', alpha=0.7)\n",
    "for i in range(conf_matrix.shape[0]):\n",
    "    for j in range(conf_matrix.shape[1]):\n",
    "        plt.text(x=j, y=i, s=conf_matrix[i, j], va='center', ha='center')\n",
    "\n",
    "plt.title('Confusion Matrix')\n",
    "plt.xlabel('True Label')\n",
    "plt.ylabel('Predicted Label')\n",
    "plt.show()"
   ]
  },
  {
   "cell_type": "code",
   "execution_count": null,
   "id": "b3973921-3158-478f-9d60-903e58a67aef",
   "metadata": {},
   "outputs": [],
   "source": []
  },
  {
   "cell_type": "code",
   "execution_count": null,
   "id": "031abaac-e34c-48e4-a0fa-fd63e937ab49",
   "metadata": {},
   "outputs": [],
   "source": [
    "# Install necessary libraries (uncomment if needed)\n",
    "# !pip install cudf-cu11 cuml-cu11 --extra-index-url=https://pypi.nvidia.com\n",
    "# !pip install tensorflow keras\n",
    "\n",
    "import cudf\n",
    "import cuml\n",
    "import numpy as np\n",
    "import pandas as pd\n",
    "import tensorflow as tf\n",
    "from tensorflow.keras.models import Model\n",
    "from tensorflow.keras.layers import Dense, Input, BatchNormalization, LeakyReLU\n",
    "from tensorflow.keras.optimizers import RMSprop\n",
    "from cuml.preprocessing import MinMaxScaler\n",
    "\n",
    "# Set random seed for reproducibility\n",
    "tf.random.set_seed(42)\n",
    "np.random.seed(42)\n",
    "\n",
    "# ============================================\n",
    "# Step 1: Load and preprocess the dataset\n",
    "# ============================================\n",
    "# Load the dataset using RAPIDS (GPU-accelerated Pandas alternative)\n",
    "data_path = \"creditcard.csv\"  # Replace with the path to the Kaggle dataset\n",
    "df = cudf.read_csv(data_path)\n",
    "\n",
    "# Filter only fraud transactions (Class == 1)\n",
    "fraud_data = df[df[\"Class\"] == 1].reset_index(drop=True)\n",
    "fraud_data = fraud_data.drop([\"Class\"], axis=1)  # Drop the class label as we focus on features\n",
    "\n",
    "# Scale features using RAPIDS MinMaxScaler\n",
    "scaler = MinMaxScaler()\n",
    "fraud_data_scaled = scaler.fit_transform(fraud_data)\n",
    "\n",
    "# Convert scaled fraud data back to NumPy for TensorFlow compatibility\n",
    "fraud_data_np = fraud_data_scaled.astype(np.float32)\n",
    "\n",
    "# ============================================\n",
    "# Step 2: Define the WGAN architecture\n",
    "# ============================================\n",
    "\n",
    "# Define constants\n",
    "LATENT_DIM = 100  # Size of the noise vector (input to the generator)\n",
    "FEATURE_DIM = fraud_data_np.shape[1]  # Number of features in the fraud data\n",
    "N_CRITIC = 5  # Number of discriminator updates per generator update\n",
    "CLIP_VALUE = 0.01  # Weight clipping value\n",
    "\n",
    "# Define the generator\n",
    "def build_generator():\n",
    "    input_noise = Input(shape=(LATENT_DIM,))\n",
    "    x = Dense(128)(input_noise)\n",
    "    x = LeakyReLU(alpha=0.2)(x)\n",
    "    x = BatchNormalization(momentum=0.8)(x)\n",
    "    x = Dense(256)(x)\n",
    "    x = LeakyReLU(alpha=0.2)(x)\n",
    "    x = BatchNormalization(momentum=0.8)(x)\n",
    "    x = Dense(FEATURE_DIM, activation=\"tanh\")(x)\n",
    "    return Model(input_noise, x, name=\"Generator\")\n",
    "\n",
    "# Define the discriminator (critic in WGAN terms)\n",
    "def build_critic():\n",
    "    input_data = Input(shape=(FEATURE_DIM,))\n",
    "    x = Dense(256)(input_data)\n",
    "    x = LeakyReLU(alpha=0.2)(x)\n",
    "    x = Dense(128)(x)\n",
    "    x = LeakyReLU(alpha=0.2)(x)\n",
    "    x = Dense(1)(x)  # Output is unbounded for Wasserstein loss\n",
    "    return Model(input_data, x, name=\"Critic\")\n",
    "\n",
    "# Initialize generator and critic\n",
    "generator = build_generator()\n",
    "critic = build_critic()\n",
    "\n",
    "# Define optimizers\n",
    "optimizer = RMSprop(learning_rate=0.00005)\n",
    "\n",
    "# Compile critic\n",
    "critic.compile(loss=\"mse\", optimizer=optimizer)\n",
    "\n",
    "# ============================================\n",
    "# Step 3: WGAN Training Loop\n",
    "# ============================================\n",
    "\n",
    "# Function to generate random noise\n",
    "def generate_noise(batch_size):\n",
    "    return np.random.normal(0, 1, (batch_size, LATENT_DIM))\n",
    "\n",
    "# Function to train WGAN\n",
    "def train_wgan(data, epochs=10000, batch_size=64):\n",
    "    half_batch = batch_size // 2\n",
    "    \n",
    "    # Training loop\n",
    "    for epoch in range(epochs):\n",
    "        for _ in range(N_CRITIC):\n",
    "            # Sample real data and generate fake data\n",
    "            idx = np.random.randint(0, data.shape[0], half_batch)\n",
    "            real_samples = data[idx]\n",
    "            noise = generate_noise(half_batch)\n",
    "            fake_samples = generator.predict(noise)\n",
    "            \n",
    "            # Train critic\n",
    "            real_loss = critic.train_on_batch(real_samples, -np.ones((half_batch, 1)))\n",
    "            fake_loss = critic.train_on_batch(fake_samples, np.ones((half_batch, 1)))\n",
    "            critic_loss = 0.5 * np.add(real_loss, fake_loss)\n",
    "            \n",
    "            # Clip critic weights\n",
    "            for layer in critic.layers:\n",
    "                weights = layer.get_weights()\n",
    "                weights = [np.clip(w, -CLIP_VALUE, CLIP_VALUE) for w in weights]\n",
    "                layer.set_weights(weights)\n",
    "        \n",
    "        # Train generator\n",
    "        noise = generate_noise(batch_size)\n",
    "        generator_loss = critic.train_on_batch(generator.predict(noise), -np.ones((batch_size, 1)))\n",
    "        \n",
    "        # Print progress\n",
    "        if epoch % 100 == 0:\n",
    "            print(f\"Epoch {epoch} | Critic Loss: {critic_loss:.4f} | Generator Loss: {generator_loss:.4f}\")\n",
    "    \n",
    "    return generator\n",
    "\n",
    "# Train the WGAN\n",
    "generator_trained = train_wgan(fraud_data_np, epochs=5000, batch_size=128)\n",
    "\n",
    "# ============================================\n",
    "# Step 4: Generate synthetic fraud transactions\n",
    "# ============================================\n",
    "def generate_synthetic_data(generator, num_samples):\n",
    "    noise = generate_noise(num_samples)\n",
    "    synthetic_data = generator.predict(noise)\n",
    "    synthetic_data_rescaled = scaler.inverse_transform(synthetic_data)\n",
    "    return synthetic_data_rescaled\n",
    "\n",
    "# Generate 1000 synthetic fraud samples\n",
    "synthetic_fraud_data = generate_synthetic_data(generator_trained, num_samples=1000)\n",
    "\n",
    "# Convert synthetic data to Pandas DataFrame for further use\n",
    "synthetic_fraud_df = pd.DataFrame(synthetic_fraud_data, columns=fraud_data.columns)\n",
    "\n",
    "# Save to CSV\n",
    "synthetic_fraud_df.to_csv(\"synthetic_fraud_data.csv\", index=False)\n",
    "print(\"Synthetic fraud data saved as synthetic_fraud_data.csv\")\n"
   ]
  }
 ],
 "metadata": {
  "@deathbeds/jupyterlab-fonts": {
   "styles": {
    ":root": {
     "--jp-content-font-size1": "14px"
    }
   }
  },
  "celltoolbar": "Raw Cell Format",
  "kernelspec": {
   "display_name": "Python 3 (ipykernel)",
   "language": "python",
   "name": "python3"
  },
  "language_info": {
   "codemirror_mode": {
    "name": "ipython",
    "version": 3
   },
   "file_extension": ".py",
   "mimetype": "text/x-python",
   "name": "python",
   "nbconvert_exporter": "python",
   "pygments_lexer": "ipython3",
   "version": "3.12.8"
  }
 },
 "nbformat": 4,
 "nbformat_minor": 5
}
